{
 "cells": [
  {
   "cell_type": "markdown",
   "id": "955dc65a-8ca7-4173-909e-d642e731f0fa",
   "metadata": {},
   "source": [
    "## 1 图像的基础操作\n",
    "- 查看图片常见属性\n",
    "- 获取像素值并修改\n",
    "- 获取图像的属性(信息)\n",
    "- 图像的ROI()\n",
    "- 图像通道的拆分及合并\n"
   ]
  },
  {
   "cell_type": "markdown",
   "id": "d9c35e95-bb72-4e25-ad4a-ec0689c81e00",
   "metadata": {},
   "source": [
    "### 1.1 常见的图片属性\n",
    "\n",
    "图像在OpenCV-Python是以numpy数组形式表示的，图像的属性比如行列数、通道数、数据类型、size等相关属性都可以通过numpy属性获取。\n",
    "\n",
    "- img.shape 可以获取图像的形状。他的􄦃回值是一个包含行数、列数和通道数的元组。 \n",
    "\n",
    "- img.size 可以返回图像的像素数目"
   ]
  },
  {
   "cell_type": "code",
   "execution_count": 2,
   "id": "20d9f3b6-d3e7-4247-97a8-e5df33858045",
   "metadata": {},
   "outputs": [],
   "source": [
    "import cv2\n",
    "import numpy as np\n",
    "\n",
    "img=cv2.imread('./images/messi5.jpg')"
   ]
  },
  {
   "cell_type": "code",
   "execution_count": 7,
   "id": "d9643cae-5ee7-42c8-8b33-19ab0e300533",
   "metadata": {},
   "outputs": [
    {
     "data": {
      "text/plain": [
       "(numpy.ndarray, (342, 548, 3), 562248)"
      ]
     },
     "execution_count": 7,
     "metadata": {},
     "output_type": "execute_result"
    }
   ],
   "source": [
    "# 图像行列数、通道数（shape属性）\n",
    "type(img),img.shape,img.size"
   ]
  },
  {
   "cell_type": "code",
   "execution_count": 6,
   "id": "dfd0c2f1-ec70-463d-88aa-4749f3b1ffa1",
   "metadata": {},
   "outputs": [
    {
     "data": {
      "text/plain": [
       "(dtype('uint8'), 3)"
      ]
     },
     "execution_count": 6,
     "metadata": {},
     "output_type": "execute_result"
    }
   ],
   "source": [
    "#img.dtype返回的是图像的数据类型. \n",
    "img.dtype,img.ndim"
   ]
  },
  {
   "cell_type": "markdown",
   "id": "56abd402-1635-4a71-a964-6fb7b1889937",
   "metadata": {},
   "source": [
    "### 1.2 获取并修改像素值"
   ]
  },
  {
   "cell_type": "code",
   "execution_count": 1,
   "id": "cb3f44c4-15e7-408d-b1b5-73abcf763990",
   "metadata": {},
   "outputs": [
    {
     "data": {
      "text/plain": [
       "(array([157, 166, 200], dtype=uint8), 157)"
      ]
     },
     "execution_count": 1,
     "metadata": {},
     "output_type": "execute_result"
    }
   ],
   "source": [
    "import cv2\n",
    "import numpy as np\n",
    "\n",
    "'''\n",
    "例如我们 检测一副图像中 眼睛的位置 我们 先应该在图像中找到脸 再在脸的区域中找眼睛 \n",
    "而不是 直接在一幅图像中搜索。这样会提高程序的准确性和性能。\n",
    "'''\n",
    "\n",
    "img=cv2.imread('./images/messi5.jpg')\n",
    "px = img[100, 100]\n",
    "blue = img[100, 100, 0]\n",
    "px,blue"
   ]
  },
  {
   "cell_type": "code",
   "execution_count": 2,
   "id": "f7d3b86d-ea62-4852-a3fa-1afa5bb45150",
   "metadata": {},
   "outputs": [
    {
     "data": {
      "text/plain": [
       "array([255, 255, 255], dtype=uint8)"
      ]
     },
     "execution_count": 2,
     "metadata": {},
     "output_type": "execute_result"
    }
   ],
   "source": [
    "img[100, 100] = [255, 255, 255]\n",
    "img[100, 100]"
   ]
  },
  {
   "cell_type": "code",
   "execution_count": 3,
   "id": "7e1cf848-6e09-4c38-b515-7d2d699b2263",
   "metadata": {},
   "outputs": [],
   "source": [
    "cv2.imshow('mess',img)\n",
    "cv2.waitKey(0)\n",
    "cv2.destroyAllWindows()"
   ]
  },
  {
   "cell_type": "markdown",
   "id": "467bbcd8-54b2-46f4-bc14-dddef84bb0c9",
   "metadata": {},
   "source": [
    "### 1.3 图像ROI \n",
    "\n",
    "有时你需要对一幅图像的特定区域进行操作。\n",
    "\n",
    "ROI也是使用Numpy索引来获得的。\n",
    "\n",
    "现在我们选择球的部分并把他拷贝到图像的其他区域。\n"
   ]
  },
  {
   "cell_type": "code",
   "execution_count": 6,
   "id": "1bb26f8e-190a-49ed-aa51-b29648484d6b",
   "metadata": {},
   "outputs": [],
   "source": [
    "ball=img[280:340,330:390]\n",
    "cv2.imshow('cat image',ball)\n",
    "k = cv2 .waitKey(0) \n",
    "cv2.destroyAllWindows()"
   ]
  },
  {
   "cell_type": "code",
   "execution_count": 7,
   "id": "47772cf2-b38d-4d5b-8dcb-0859ba62b061",
   "metadata": {},
   "outputs": [],
   "source": [
    "ball=img[280:340,330:390]\n",
    "img[273:333,100:160]=ball #修改像素值"
   ]
  },
  {
   "cell_type": "code",
   "execution_count": 8,
   "id": "584c4090-db7f-4d0a-84fb-9a65ce204b3b",
   "metadata": {},
   "outputs": [],
   "source": [
    "cv2.imshow('mess',img)\n",
    "cv2.waitKey(0)\n",
    "cv2.destroyAllWindows()"
   ]
  },
  {
   "cell_type": "markdown",
   "id": "2bd7e16f-75c5-4cb8-b3e1-2d6197de5d08",
   "metadata": {},
   "source": [
    "### 1.4 颜色通道提取 \n",
    "通过 cv2 的 split() 方法可以进行颜色的通道提取"
   ]
  },
  {
   "cell_type": "code",
   "execution_count": 10,
   "id": "16a25b7c-7f71-4109-b017-16d8b1de86bd",
   "metadata": {},
   "outputs": [],
   "source": [
    "# 导入 OpenCV 库\n",
    "import cv2 \n",
    "\n",
    "img = cv2.imread(\"./images/lena.jpg\",)\n",
    "cur_img = img.copy()\n",
    "b,g,r=cv2.split(cur_img) \n",
    "# # 注意参数的变化\n",
    "# cur_img[:,:,0] = 0\n",
    "# cur_img[:,:,1] = 0"
   ]
  },
  {
   "cell_type": "code",
   "execution_count": 18,
   "id": "13918873-5d33-4658-a44c-800e8c9a9cb7",
   "metadata": {},
   "outputs": [],
   "source": [
    "cv2.imshow('B',b)\n",
    "cv2.imshow('G',g)\n",
    "cv2.imshow('R',r)\n",
    "cv2.waitKey(0)\n",
    "cv2.destroyAllWindows()"
   ]
  },
  {
   "cell_type": "code",
   "execution_count": 16,
   "id": "61dcf6bd-23be-42ef-99f2-a6b60d13a83a",
   "metadata": {},
   "outputs": [],
   "source": [
    "cv2.imshow('B',img[:,:,0])\n",
    "cv2.waitKey(0)\n",
    "cv2.destroyAllWindows()"
   ]
  },
  {
   "cell_type": "code",
   "execution_count": 17,
   "id": "a129e93f-9be0-4f76-9312-bbd4dffadc33",
   "metadata": {},
   "outputs": [],
   "source": [
    "# 让所有像素的红色通道都为0\n",
    "#cur_img[:,:,1] = 0 \n",
    "cur_img[:,:,2] = 0\n",
    "cv2.imshow('Non Red',cur_img)\n",
    "cv2.waitKey(0)\n",
    "cv2.destroyAllWindows()"
   ]
  },
  {
   "cell_type": "markdown",
   "id": "57271cc0-a990-42f6-88a6-05ac6743a885",
   "metadata": {},
   "source": [
    "### 1.5 图像反色 "
   ]
  },
  {
   "cell_type": "code",
   "execution_count": 13,
   "id": "622e0a2c-fbc6-42ba-8dc7-b80b8874e8ed",
   "metadata": {},
   "outputs": [],
   "source": [
    "def access_pixles(image):\n",
    "    print(image.shape)\n",
    "    height = image.shape[0]\n",
    "    width = image.shape[1]\n",
    "    channel = image.shape[2]\n",
    "    print(\"width : %s, height : %s, channel : %s\" % (width, height, channel))      #%间隔输出变量\n",
    "    for row in range(height): # 从0到height的范围宽度,遍历每个像素\n",
    "        for col in range(width):\n",
    "            for c in range(channel):\n",
    "                pv = image[row, col, c] # 获得行、列和维度\n",
    "                image[row, col, c] = 255 - pv # 图像反色，用image=255-image更快\n",
    "    cv2.imshow(\"pixles_demo\", image)"
   ]
  },
  {
   "cell_type": "code",
   "execution_count": 16,
   "id": "6274e787-19a8-4401-af6c-0d5ddb9fda83",
   "metadata": {},
   "outputs": [
    {
     "name": "stdout",
     "output_type": "stream",
     "text": [
      "(512, 512, 3)\n",
      "width : 512, height : 512, channel : 3\n"
     ]
    }
   ],
   "source": [
    "access_pixles(img)\n",
    "k = cv2.waitKey(0) \n",
    "cv2.destroyAllWindows()"
   ]
  }
 ],
 "metadata": {
  "kernelspec": {
   "display_name": "Python 3",
   "language": "python",
   "name": "python3"
  },
  "language_info": {
   "codemirror_mode": {
    "name": "ipython",
    "version": 3
   },
   "file_extension": ".py",
   "mimetype": "text/x-python",
   "name": "python",
   "nbconvert_exporter": "python",
   "pygments_lexer": "ipython3",
   "version": "3.8.3"
  }
 },
 "nbformat": 4,
 "nbformat_minor": 5
}
