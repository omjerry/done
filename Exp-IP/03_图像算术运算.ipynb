{
 "cells": [
  {
   "cell_type": "markdown",
   "id": "5b1a8a14-b03a-49a6-8d19-131b9c7655a0",
   "metadata": {},
   "source": [
    "\n",
    "学习图像上的算术运算 加法 减法 位运算等\n",
    "## 1 图像的加法运算\n",
    "\n",
    "### 1.1 图像相加 add() \n",
    "2个图像对象img，img2如果通道数一样、大小一样，可以使用cv2.add(img,img2)相加，得到一个新的图像。 "
   ]
  },
  {
   "cell_type": "code",
   "execution_count": null,
   "id": "115c50f9-9348-4c75-b012-9e9774378f6a",
   "metadata": {},
   "outputs": [],
   "source": [
    "import cv2\n",
    "import numpy as np\n",
    "\n",
    "img1 = cv2.imread('./images/lena.jpg')\n",
    "img2 = cv2.imread('./images/opencv_logo.png')\n",
    "\n",
    "dst = img1+img2"
   ]
  },
  {
   "cell_type": "code",
   "execution_count": 6,
   "id": "489d66be-2eda-4dde-8a5e-9d36a4394fde",
   "metadata": {},
   "outputs": [],
   "source": [
    "img1 = cv2.imread('./images/lena.jpg')[:512,:512]\n",
    "img2 = cv2.imread('./images/opencv_logo.png')[:512,:512]\n",
    "\n",
    "#dst = img1+img2\n",
    "dst = cv2.add(img2,img1)\n",
    "cv2.imshow('image add ', dst)\n",
    "cv2.waitKey(0)\n",
    "cv2.destroyAllWindows()"
   ]
  },
  {
   "cell_type": "code",
   "execution_count": 7,
   "id": "08169af2-0779-49c6-8e15-ce6f2e129581",
   "metadata": {},
   "outputs": [
    {
     "data": {
      "text/plain": [
       "(array([146, 151, 206], dtype=uint8),\n",
       " array([  0,   0, 255], dtype=uint8),\n",
       " array([146, 151, 255], dtype=uint8))"
      ]
     },
     "execution_count": 7,
     "metadata": {},
     "output_type": "execute_result"
    }
   ],
   "source": [
    "img1[111,222],img2[111,222],dst[111,222]"
   ]
  },
  {
   "cell_type": "markdown",
   "id": "872a3249-89bf-406d-98e8-be1b000fc8d0",
   "metadata": {},
   "source": [
    "2个图像中白色部分会覆盖了原来的位置，那是因为add()方法相加的图像如果超过了阈值会被截断。 \n",
    "\n",
    "在OpenCV中图像的算术运算遵循“饱和运算”的规则，如果计算的结果超过了阈值范围，则就近进行截断，比如unit8类型的数据范围是【0,255】，如果2个数值直接相加的结果大于255就会赋值为255。 \n",
    "\n",
    "### 1.2 图像相加 运算符+"
   ]
  },
  {
   "cell_type": "code",
   "execution_count": 2,
   "id": "9a66be0c-229f-4907-9bb1-0339aa58f99e",
   "metadata": {},
   "outputs": [],
   "source": [
    "\n",
    "x = np.uint8([250])\n",
    "y = np.uint8([10])\n"
   ]
  },
  {
   "cell_type": "code",
   "execution_count": 3,
   "id": "933e7890-c867-467b-b2f4-b8ce5c608ef1",
   "metadata": {},
   "outputs": [
    {
     "data": {
      "text/plain": [
       "array([[255]], dtype=uint8)"
      ]
     },
     "execution_count": 3,
     "metadata": {},
     "output_type": "execute_result"
    }
   ],
   "source": [
    "cv2.add(x, y) # 250+10 = 260 => 255"
   ]
  },
  {
   "cell_type": "code",
   "execution_count": 4,
   "id": "939bcb15-db44-43b2-a495-508ea53c0ea4",
   "metadata": {},
   "outputs": [
    {
     "data": {
      "text/plain": [
       "array([4], dtype=uint8)"
      ]
     },
     "execution_count": 4,
     "metadata": {},
     "output_type": "execute_result"
    }
   ],
   "source": [
    "x+y # 250+10=260%256=4"
   ]
  },
  {
   "cell_type": "code",
   "execution_count": null,
   "id": "b647f63d-a13e-4977-8613-0fceaeee3633",
   "metadata": {},
   "outputs": [],
   "source": [
    "img1 = cv2.imread('./images/lena.jpg')[:512,:512]\n",
    "img2 = cv2.imread('./images/opencv_logo.png')[:512,:512]\n",
    "\n",
    "dst = img1+img2\n",
    "cv2.imshow('image add ', dst)\n",
    "cv2.waitKey(0)\n",
    "cv2.destroyAllWindows()"
   ]
  },
  {
   "cell_type": "code",
   "execution_count": 9,
   "id": "af791287-95cf-4f3e-accc-91d64ea0c953",
   "metadata": {},
   "outputs": [
    {
     "data": {
      "text/plain": [
       "(array([146, 151, 206], dtype=uint8),\n",
       " array([  0,   0, 255], dtype=uint8),\n",
       " array([146, 151, 205], dtype=uint8))"
      ]
     },
     "execution_count": 9,
     "metadata": {},
     "output_type": "execute_result"
    }
   ],
   "source": [
    "img1[111,222],img2[111,222],dst[111,222]"
   ]
  },
  {
   "cell_type": "markdown",
   "id": "380ed305-2019-4b41-83da-5b2664ab034b",
   "metadata": {},
   "source": [
    "从运行结果看，+运算符将2个图像相加，新图像和lena.jpg差异不大，但是和opencv-logo.png相差甚远。\n",
    "\n",
    "从像素[111,222]的运算结果看，当2个值相加大于255时，会将这个值对256求余得到新的像素值。  \n",
    "\n",
    "为什么用符号+运算后的结果会对256求模？ \n",
    "- numpy数组的数据类型是unit8, C语言中unsigned char类型的数据表示的范围是[0,255]的闭区间\n"
   ]
  },
  {
   "cell_type": "markdown",
   "id": "ed299549-fc49-4341-96e2-9b563768cd3e",
   "metadata": {},
   "source": [
    "### 1.3 加权加法 addWeighted()\n",
    "addWighted()可以用来实现2幅图像的不同权值的加法，实现图像混合的效果。 \n",
    "\n",
    "\n",
    "函数cv2.addWeighted()可以按下面的公式对图片进行混合操作。\n",
    "\n",
    "$g(x)=(1-a)f_0(x)+af_1(x)+b$\n",
    "\n",
    "\n",
    "现在我们把两幅图混合在一起。第一幅图的权重是0.7,第二幅图的权重是0.3, b=0。\n",
    "\n"
   ]
  },
  {
   "cell_type": "code",
   "execution_count": 10,
   "id": "199740de-d544-4ba5-b9cb-e31b3912ed00",
   "metadata": {},
   "outputs": [],
   "source": [
    "img2_dst = cv2.resize(img2,(img1.shape[0],img1.shape[1])) #放大图像\n",
    "\n",
    "dst = cv2.addWeighted(img1, 0.7, img2_dst, 0.3, 0)  # 第一幅图的权重是 0.7 第二幅图的权重是 0.3\n",
    "\n",
    "cv2.imshow('dst', dst)\n",
    "cv2.waitKey(0) \n",
    "cv2.destroyAllWindows()"
   ]
  },
  {
   "cell_type": "code",
   "execution_count": 11,
   "id": "06c5efcd-c396-43ab-b9c6-334791a6771d",
   "metadata": {},
   "outputs": [
    {
     "data": {
      "text/plain": [
       "(array([146, 151, 206], dtype=uint8),\n",
       " array([  0,   0, 255], dtype=uint8),\n",
       " array([102, 106, 221], dtype=uint8))"
      ]
     },
     "execution_count": 11,
     "metadata": {},
     "output_type": "execute_result"
    }
   ],
   "source": [
    "img1[111,222],img2[111,222],dst[111,222]"
   ]
  },
  {
   "cell_type": "code",
   "execution_count": 10,
   "id": "399fe36f-66fd-4878-9966-6021bd36e7c0",
   "metadata": {},
   "outputs": [],
   "source": [
    "\n",
    "import cv2\n",
    "import numpy as np\n",
    "\n",
    "\n",
    "img1=cv2.imread('./images/subtract1.jpg',1)#灰度图\n",
    "img2=cv2.imread('./images/subtract2.jpg',1)\n",
    "\n",
    "cv2.imshow('subtract1',img1)\n",
    "cv2.imshow('subtract2',img2)\n",
    "\n",
    "#\n",
    "st=img2-img1\n",
    "# st=img1-img2#相反\n",
    "cv2.imshow('after subtract',st)\n",
    "\n",
    "#效果好一点\n",
    "# ret,threshold=cv2.threshold(st,0, 127, cv2.THRESH_BINARY)\n",
    "ret,threshold=cv2.threshold(st, 50,255, cv2.THRESH_BINARY)\n",
    "cv2.imshow('after threshold', threshold)\n",
    "\n",
    "\n",
    "cv2.waitKey(0)\n",
    "cv2.destroyAllWindows()"
   ]
  },
  {
   "cell_type": "markdown",
   "id": "ba85bb15-d191-4546-85b2-001da302cc77",
   "metadata": {},
   "source": [
    "## 2 图像减法运算 \n",
    "\n",
    "减法运算的subtract()也遵循“饱和运算”规则，如果2个图像相减直接计算结果小于0，也会被截断到255。 \n",
    "\n",
    "### 2.1 图像相减 subtract() \n",
    "\n",
    "2个图像相减仍然要求通道数一样，图像尺寸一样。"
   ]
  },
  {
   "cell_type": "code",
   "execution_count": 15,
   "id": "ff21b85d-3dfa-4c66-a562-35d01e68b3b7",
   "metadata": {},
   "outputs": [],
   "source": [
    "img1 = cv2.imread('./images/lena.jpg')[:512,:512]\n",
    "img2 = cv2.imread('./images/opencv_logo.png')[:512,:512]\n",
    "\n",
    "dst1 = cv2.subtract(img1,img2) \n",
    "dst2 = cv2.subtract(img2,img1)\n",
    "cv2.imshow('image subtract1', dst1)\n",
    "cv2.imshow('image subtract2', dst2)\n",
    "cv2.waitKey(0)\n",
    "cv2.destroyAllWindows()"
   ]
  },
  {
   "cell_type": "code",
   "execution_count": 18,
   "id": "61c7fa14-fd14-4109-ae64-38ba62bbf736",
   "metadata": {},
   "outputs": [
    {
     "data": {
      "text/plain": [
       "(array([146, 151, 206], dtype=uint8),\n",
       " array([  0,   0, 255], dtype=uint8),\n",
       " array([146, 151, 207], dtype=uint8),\n",
       " array([110, 105,  49], dtype=uint8))"
      ]
     },
     "execution_count": 18,
     "metadata": {},
     "output_type": "execute_result"
    }
   ],
   "source": [
    "img1[111,222],img2[111,222],dst1[111,222],dst2[111,222]"
   ]
  },
  {
   "cell_type": "markdown",
   "id": "4c1db829-cd2e-4130-8abd-1dd2abf25cba",
   "metadata": {},
   "source": [
    "### 2.2 图像相减 运算符-"
   ]
  },
  {
   "cell_type": "code",
   "execution_count": 17,
   "id": "7aad7e31-3ae2-4a33-b652-7e352dff7f6e",
   "metadata": {},
   "outputs": [],
   "source": [
    "img1 = cv2.imread('./images/lena.jpg')[:512,:512]\n",
    "img2 = cv2.imread('./images/opencv_logo.png')[:512,:512]\n",
    "\n",
    "dst1 = img1-img2\n",
    "dst2 = img2-img1\n",
    "cv2.imshow('img1-img2', dst1)\n",
    "cv2.imshow('img2-img1', dst2)\n",
    "cv2.waitKey(0)\n",
    "cv2.destroyAllWindows()"
   ]
  },
  {
   "cell_type": "code",
   "execution_count": 20,
   "id": "52e828e4-8acc-4a74-a62e-8c0ce9d9e8ca",
   "metadata": {},
   "outputs": [
    {
     "data": {
      "text/plain": [
       "(array([146, 151, 206], dtype=uint8),\n",
       " array([  0,   0, 255], dtype=uint8),\n",
       " array([146, 151, 207], dtype=uint8),\n",
       " array([110, 105,  49], dtype=uint8))"
      ]
     },
     "execution_count": 20,
     "metadata": {},
     "output_type": "execute_result"
    }
   ],
   "source": [
    "img1[111,222],img2[111,222],dst1[111,222],dst2[111,222]"
   ]
  },
  {
   "cell_type": "markdown",
   "id": "52be07d3-8d75-4f40-98ff-5ee6b3a940b6",
   "metadata": {},
   "source": [
    "### 2.3 绝对值减法 absdiff() \n",
    "\n",
    "而不是像subtract()和符号-减法那样做饱和运算或者求模，absdiff()得到的是2个图像间像素的绝对差值。"
   ]
  },
  {
   "cell_type": "code",
   "execution_count": 22,
   "id": "515588ae-a9ad-4598-bf0b-1d1ede77ff50",
   "metadata": {},
   "outputs": [],
   "source": [
    "img1 = cv2.imread('./images/lena.jpg')[:512,:512]\n",
    "img2 = cv2.imread('./images/opencv_logo.png')[:512,:512]\n",
    "\n",
    "dst1 = cv2.absdiff(img1,img2)\n",
    "dst2 = cv2.absdiff(img2,img1)\n",
    "cv2.imshow('absdiff1', dst1)\n",
    "cv2.imshow('absdiff2', dst2)\n",
    "cv2.waitKey(0)\n",
    "cv2.destroyAllWindows()"
   ]
  },
  {
   "cell_type": "code",
   "execution_count": 23,
   "id": "43971a98-724a-4498-a597-d7d871793c5e",
   "metadata": {},
   "outputs": [
    {
     "data": {
      "text/plain": [
       "(array([146, 151, 206], dtype=uint8),\n",
       " array([  0,   0, 255], dtype=uint8),\n",
       " array([146, 151,  49], dtype=uint8),\n",
       " array([146, 151,  49], dtype=uint8))"
      ]
     },
     "execution_count": 23,
     "metadata": {},
     "output_type": "execute_result"
    }
   ],
   "source": [
    "img1[111,222],img2[111,222],dst1[111,222],dst2[111,222]"
   ]
  },
  {
   "cell_type": "markdown",
   "id": "d7acc2c7-03a8-488b-953f-1f290183d98a",
   "metadata": {},
   "source": [
    "### 2.4 图像和标量加减  \n",
    "\n",
    "图像和标量进行加减，则是将图像的每一个元素都和这个标量值进行加减。 \n",
    "\n",
    "如果要进行多通道运算，标量值则使用一个包含4个数值的元组表示。"
   ]
  },
  {
   "cell_type": "code",
   "execution_count": 28,
   "id": "7d4f3fb0-d70e-4fd7-a486-98a64475220b",
   "metadata": {},
   "outputs": [],
   "source": [
    "img1 = cv2.imread('./images/lena.jpg')[:512,:512]\n",
    "\n",
    "dst1 = cv2.add(img1,50)\n",
    "dst2 = cv2.add(img1,(50,50,50,50))\n",
    "\n",
    "cv2.imshow('add(img,50)', dst1)\n",
    "cv2.imshow('add(img,(50,50,50,0))', dst2)\n",
    "cv2.waitKey(0)\n",
    "cv2.destroyAllWindows()"
   ]
  },
  {
   "cell_type": "code",
   "execution_count": 27,
   "id": "a54affd4-d867-4eb9-bc11-bd405cb834e6",
   "metadata": {},
   "outputs": [
    {
     "data": {
      "text/plain": [
       "(array([146, 151, 206], dtype=uint8),\n",
       " array([196, 151, 206], dtype=uint8),\n",
       " array([196, 201, 255], dtype=uint8))"
      ]
     },
     "execution_count": 27,
     "metadata": {},
     "output_type": "execute_result"
    }
   ],
   "source": [
    "img1[111,222],dst1[111,222],dst2[111,222]"
   ]
  },
  {
   "cell_type": "markdown",
   "id": "78fa382b-e34c-40be-aa28-938b93f17f30",
   "metadata": {},
   "source": [
    "## 3 图像乘法  \n",
    "### 3.1 图像乘法multiply()  \n",
    "\n",
    "multiply()用法：dst=cv2.multiply(src1, src2[, dst[, scale[, dtype]]])，src1和src2为图像对象，可选参数scale为放大倍数。\n",
    "\n",
    "结果dst=saturate(scale*src1*src2)\n",
    "\n",
    "multiply()遵循饱和运算规则，比如uint8类型的数据如果超过255会被截断到255"
   ]
  },
  {
   "cell_type": "code",
   "execution_count": 34,
   "id": "e7536b35-c6b6-4a91-a1e3-7b6ea6673a8d",
   "metadata": {},
   "outputs": [],
   "source": [
    "img1 = cv2.imread('./images/lena.jpg')[:512,:512]\n",
    "img2 = cv2.imread('./images/opencv_logo.png')[:512,:512]\n",
    "\n",
    "dst1 = cv2.multiply(img1,img2)\n",
    "cv2.imshow('multiply', dst1)\n",
    "cv2.waitKey(0)\n",
    "cv2.destroyAllWindows()"
   ]
  },
  {
   "cell_type": "code",
   "execution_count": 39,
   "id": "3ee11655-11e7-4ecb-9230-b60eafe0e4bb",
   "metadata": {},
   "outputs": [
    {
     "data": {
      "text/plain": [
       "(array([146, 151, 206], dtype=uint8),\n",
       " array([  0,   0, 255], dtype=uint8),\n",
       " array([ 0,  0, 50], dtype=uint8))"
      ]
     },
     "execution_count": 39,
     "metadata": {},
     "output_type": "execute_result"
    }
   ],
   "source": [
    "img1[111,222],img2[111,222],dst1[111,222]"
   ]
  },
  {
   "cell_type": "markdown",
   "id": "6b72a5f0-8991-4ad0-9298-bbab46fa5dbb",
   "metadata": {},
   "source": [
    "从图像学意义上看，因为opencv-logo.png的每个像素要么是0要么是255\n",
    "\n",
    "用multiply()计算它和其他的图像相乘得到的结果也是0或者255，所以最后的图像和opencv-logo.png一样。"
   ]
  },
  {
   "cell_type": "markdown",
   "id": "a814155d-6e4c-4bf1-a8b9-22381ed88950",
   "metadata": {},
   "source": [
    "### 3.2  符号乘法\n",
    "\n",
    "符号乘法实际就是numpy数组的乘法，和用+/-做numpy加减法一样，在数值类型表示范围的上限加1取模，比如uint8类型的数据对256取模。"
   ]
  },
  {
   "cell_type": "code",
   "execution_count": 36,
   "id": "ad1cbb17-2de9-4ee6-af9c-947abbf4d8b9",
   "metadata": {},
   "outputs": [],
   "source": [
    "img1 = cv2.imread('./images/lena.jpg')[:512,:512]\n",
    "img2 = cv2.imread('./images/opencv_logo.png')[:512,:512]\n",
    "\n",
    "dst1 = img1*img2\n",
    "cv2.imshow('multiply', dst1)\n",
    "cv2.waitKey(0)\n",
    "cv2.destroyAllWindows()"
   ]
  },
  {
   "cell_type": "code",
   "execution_count": 38,
   "id": "9eb5d873-c499-461f-b151-1c1567e0ce78",
   "metadata": {},
   "outputs": [
    {
     "data": {
      "text/plain": [
       "(array([146, 151, 206], dtype=uint8),\n",
       " array([196, 201, 255], dtype=uint8),\n",
       " array([ 0,  0, 50], dtype=uint8))"
      ]
     },
     "execution_count": 38,
     "metadata": {},
     "output_type": "execute_result"
    }
   ],
   "source": [
    "img1[111,222],dst2[111,222],dst1[111,222]"
   ]
  },
  {
   "cell_type": "markdown",
   "id": "ce049830-acf9-43d4-8c6f-2b6b6485c7fe",
   "metadata": {},
   "source": [
    "## 4 图像除法  \n",
    "\n",
    "### 4.1 图像除法divide()  \n",
    "\n",
    "divide()有2种用法：\n",
    "\n",
    "dst = cv2.divide( src1, src2[, dst[, scale[, dtype]]] )：第1个和第2个位置参数都是图像对象，可选参数scale参数指定src1的放大倍数\n",
    "\n",
    "\n",
    "dst = cv2.divide( scale, src2[, dst[, dtype]] )：第1个位置参数为数值类型，第2个位置参数为图像对象\n",
    "\n",
    "如果是uint8等整数类型的除法，运算后的结果会做四舍五入取整。divide()除法也遵守“饱和运算规则” "
   ]
  },
  {
   "cell_type": "code",
   "execution_count": 40,
   "id": "757e6f97-5f5f-4832-ac3a-33a67ee90f05",
   "metadata": {},
   "outputs": [],
   "source": [
    "img1 = cv2.imread('./images/lena.jpg')[:512,:512]\n",
    "img2 = cv2.imread('./images/opencv_logo.png')[:512,:512]\n",
    "\n",
    "dst1 =cv2.divide(img1,img2)\n",
    "dst2 =cv2.divide(img2,img1)\n",
    "cv2.imshow('divide 1 ', dst1)\n",
    "cv2.imshow('divide 2 ', dst2)\n",
    "cv2.waitKey(0)\n",
    "cv2.destroyAllWindows()"
   ]
  },
  {
   "cell_type": "code",
   "execution_count": 42,
   "id": "9b3a1e99-70f6-42c1-afbb-01ff080eabf9",
   "metadata": {},
   "outputs": [
    {
     "data": {
      "text/plain": [
       "(array([146, 151, 206], dtype=uint8),\n",
       " array([  0,   0, 255], dtype=uint8),\n",
       " array([0, 0, 1], dtype=uint8),\n",
       " array([0, 0, 1], dtype=uint8))"
      ]
     },
     "execution_count": 42,
     "metadata": {},
     "output_type": "execute_result"
    }
   ],
   "source": [
    "img1[111,222],img2[111,222],dst2[111,222],dst1[111,222]"
   ]
  },
  {
   "cell_type": "markdown",
   "id": "a1650f1e-f364-442d-9069-2c89286dad74",
   "metadata": {},
   "source": [
    "### 4.2  图像除法 / \n",
    "符号除法实际就是numpy数组的除法。 "
   ]
  },
  {
   "cell_type": "code",
   "execution_count": 43,
   "id": "733ecf07-8168-4b70-8a48-76fa53d10d4d",
   "metadata": {},
   "outputs": [
    {
     "name": "stderr",
     "output_type": "stream",
     "text": [
      "<ipython-input-43-90dd9eb9d555>:4: RuntimeWarning: divide by zero encountered in divide\n",
      "  dst1 =img1/img2\n",
      "<ipython-input-43-90dd9eb9d555>:4: RuntimeWarning: invalid value encountered in divide\n",
      "  dst1 =img1/img2\n",
      "<ipython-input-43-90dd9eb9d555>:5: RuntimeWarning: divide by zero encountered in divide\n",
      "  dst2 =img2/img1\n",
      "<ipython-input-43-90dd9eb9d555>:5: RuntimeWarning: invalid value encountered in divide\n",
      "  dst2 =img2/img1\n"
     ]
    }
   ],
   "source": [
    "img1 = cv2.imread('./images/lena.jpg')[:512,:512]\n",
    "img2 = cv2.imread('./images/opencv_logo.png')[:512,:512]\n",
    "\n",
    "dst1 =img1/img2\n",
    "dst2 =img2/img1\n",
    "cv2.imshow('img1/img2 ', dst1)\n",
    "cv2.imshow('img2/img1 ', dst2)\n",
    "cv2.waitKey(0)\n",
    "cv2.destroyAllWindows()"
   ]
  },
  {
   "cell_type": "code",
   "execution_count": 45,
   "id": "50940ec0-4315-4c51-a77b-6872bb5a240b",
   "metadata": {},
   "outputs": [
    {
     "data": {
      "text/plain": [
       "dtype('float64')"
      ]
     },
     "execution_count": 45,
     "metadata": {},
     "output_type": "execute_result"
    }
   ],
   "source": [
    "dst1.dtype"
   ]
  },
  {
   "cell_type": "markdown",
   "id": "4ba117b3-3f94-4800-93af-1c796fcac7f1",
   "metadata": {},
   "source": [
    "imread()读入图像默认的数据类型为uint8，符号除法得到的数据类型发生了改变，变成了float64。\n",
    "\n",
    "当除数为0时，numpy除法打印了告警信息：divide by zero encountered in true_divide\n",
    "\n",
    "直接计算结果为inf \n",
    "\n",
    "当有元素为0且作为被除数时，divide()计算仍然是有实际意义的"
   ]
  },
  {
   "cell_type": "markdown",
   "id": "0e7e1be6-6412-4297-a06a-388fd21eaec5",
   "metadata": {},
   "source": [
    "## 5 图像的位运算  \n",
    "\n",
    "图像的位运算是指对图像的数值按照二进制值逐位进行取反、与、或、异或操作。\n",
    "\n",
    "### 5.1 按位取反bitwise_not()  \n",
    "按位取反就是将数值根据每个bit位1变0，0变1，比如0xf0按位取反就变成了0x0f，如果是uint8类型的数据，取反前后的数据相加结果为0xff(255) "
   ]
  },
  {
   "cell_type": "code",
   "execution_count": 69,
   "id": "829abdcd-d864-49f3-8c78-063e04071b1a",
   "metadata": {},
   "outputs": [
    {
     "data": {
      "text/plain": [
       "('0xff', '0x0', 240, 15)"
      ]
     },
     "execution_count": 69,
     "metadata": {},
     "output_type": "execute_result"
    }
   ],
   "source": [
    "hex(255),hex(0),int(\"0xf0\",16),int(\"0x0f\",16)"
   ]
  },
  {
   "cell_type": "code",
   "execution_count": 72,
   "id": "bacb1016-898b-41c2-88d2-35b98b843aab",
   "metadata": {},
   "outputs": [
    {
     "data": {
      "text/plain": [
       "('0b11110000', 15)"
      ]
     },
     "execution_count": 72,
     "metadata": {},
     "output_type": "execute_result"
    }
   ],
   "source": [
    "bin(int(\"0xf0\",16)),(~int(\"0xf0\",16)+256)"
   ]
  },
  {
   "cell_type": "code",
   "execution_count": 73,
   "id": "c9a9d76a-ea22-4505-ba3c-dfd0250ed27d",
   "metadata": {},
   "outputs": [],
   "source": [
    "img1 = cv2.imread('./images/lena.jpg')[:512,:512]\n",
    "img2 = cv2.imread('./images/opencv_logo.png')[:512,:512]\n",
    "\n",
    "dst1 =cv2.bitwise_not(img1)\n",
    "dst2 =cv2.bitwise_not(img2)\n",
    "cv2.imshow('lena-bitwise-not ', dst1)\n",
    "cv2.imshow('opencv-bitwise-not ', dst2)\n",
    "cv2.waitKey(0)\n",
    "cv2.destroyAllWindows()"
   ]
  },
  {
   "cell_type": "code",
   "execution_count": 75,
   "id": "5c5d70ce-96d9-46e9-9d2c-43d65aa68069",
   "metadata": {},
   "outputs": [
    {
     "data": {
      "text/plain": [
       "(array([146, 151, 206], dtype=uint8),\n",
       " array([  0,   0, 255], dtype=uint8),\n",
       " array([109, 104,  49], dtype=uint8),\n",
       " array([255, 255,   0], dtype=uint8))"
      ]
     },
     "execution_count": 75,
     "metadata": {},
     "output_type": "execute_result"
    }
   ],
   "source": [
    "img1[111,222],img2[111,222],dst1[111,222],dst2[111,222]"
   ]
  },
  {
   "cell_type": "markdown",
   "id": "38fd002d-55a5-4328-b458-123944f53d70",
   "metadata": {},
   "source": [
    "### 5.2 按位与bitwise_and()、或bitwise_or()、异或bitwise_xor() \n",
    "\n",
    "2个图像的按位操作和算术运算一样，也要求2个图像的大小一样，通道数一样。 "
   ]
  },
  {
   "cell_type": "code",
   "execution_count": 76,
   "id": "84047345-7774-458a-b33b-f039df28cd80",
   "metadata": {},
   "outputs": [],
   "source": [
    "img1 = cv2.imread('./images/lena.jpg')[:512,:512]\n",
    "img2 = cv2.imread('./images/opencv_logo.png')[:512,:512]\n",
    "\n",
    "dst1 =cv2.bitwise_and(img1,img2)\n",
    "dst2 =cv2.bitwise_or(img1,img2)\n",
    "dst3 =cv2.bitwise_xor(img1,img2)\n",
    "cv2.imshow('lena-bitwise_and ', dst1)\n",
    "cv2.imshow('lena-bitwise_or ', dst2)\n",
    "cv2.imshow('lena-bitwise_xor ', dst3)\n",
    "cv2.waitKey(0)\n",
    "cv2.destroyAllWindows()"
   ]
  }
 ],
 "metadata": {
  "kernelspec": {
   "display_name": "Python 3",
   "language": "python",
   "name": "python3"
  },
  "language_info": {
   "codemirror_mode": {
    "name": "ipython",
    "version": 3
   },
   "file_extension": ".py",
   "mimetype": "text/x-python",
   "name": "python",
   "nbconvert_exporter": "python",
   "pygments_lexer": "ipython3",
   "version": "3.8.3"
  }
 },
 "nbformat": 4,
 "nbformat_minor": 5
}
