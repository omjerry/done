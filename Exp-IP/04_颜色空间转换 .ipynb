{
 "cells": [
  {
   "cell_type": "markdown",
   "id": "1f0ba861-fe5f-4340-bf14-bab3e6ce010f",
   "metadata": {},
   "source": [
    "# 色彩空间\n",
    "\n",
    "## 1 色彩空间转换  \n",
    "\n",
    "在数字图像中，最常见的彩色模型是RGB模型（红、绿、蓝，在OpenCV中彩色图像组织的顺序是B-G-R，仍然是RGB模型。\n",
    "这种模型是硬件处理的常用模型，比如采集图像的CCD传感器、显示图像的显示器等等。\n",
    "\n",
    "符合描述人类眼睛观察的则是HSV（色度、饱和度、亮度）模型。\n",
    "\n",
    "OpenCV中有274种颜色空间转换方法。我们只研究两种最广泛使用的转换方法，BGR↔Gray和BGR↔HSV。   "
   ]
  },
  {
   "cell_type": "code",
   "execution_count": 1,
   "id": "de0c9122-6a85-4547-8b68-4d526ce56d97",
   "metadata": {},
   "outputs": [
    {
     "data": {
      "text/plain": [
       "346"
      ]
     },
     "execution_count": 1,
     "metadata": {},
     "output_type": "execute_result"
    }
   ],
   "source": [
    "import cv2\n",
    "flags=[i for i in dir(cv2) if i.startswith('COLOR_')] \n",
    "len(flags)"
   ]
  },
  {
   "cell_type": "markdown",
   "id": "c2267645-748d-4ee7-bcdf-6e7619a39522",
   "metadata": {},
   "source": [
    "### 1.1 转换GRAY色彩空间\n",
    "\n",
    "GRAY色彩空间：GRAY（灰度图像）通常指8位灰度图，其具有256个灰度级，像素值的范围是[0,255]。\n",
    "\n",
    "- 当图像由RGB色彩空间转换为GRAY色彩空间时，其处理方式如下：\n",
    "\n",
    "    Gray=0.299*R+0.587*G+0.114*B    \n",
    "    \n",
    "    \n",
    "对于颜色转换，使用函数cv.cvtColor(input_image，flag)，其中flag确定转换类型。 \n",
    "- 对于BGR→Gray转换，我们使用标志cv.COLOR_BGR2GRAY。\n",
    "- 类似地，对于BGR→HSV，我们使用标志cv.COLOR_BGR2HSV"
   ]
  },
  {
   "cell_type": "code",
   "execution_count": null,
   "id": "85bbd761-af4d-48e6-b95c-f8bb359c5c8f",
   "metadata": {},
   "outputs": [],
   "source": [
    "import cv2\n",
    "img_src = cv2.imread(\"./images/lena.jpg\")\n",
    "img_gray = cv2.cvtColor(img_src,cv2.COLOR_BGR2GRAY)    #彩色转灰度\n",
    "print(img_gray.shape)    #单通道\n",
    "img_color = cv2.cvtColor(img_gray,cv2.COLOR_GRAY2BGR)  #灰度转彩色\n",
    "print(img_color.shape)   #3通道 \n",
    "cv2.imshow('img_src',img_src)\n",
    "cv2.imshow('img_color',img_color)\n",
    "cv2.imshow('img_gray',img_gray)\n",
    "cv2.waitKey()\n",
    "cv2.destroyAllWindows()  "
   ]
  },
  {
   "cell_type": "markdown",
   "id": "bc190bfe-3146-4d00-939b-96c914d23b27",
   "metadata": {},
   "source": [
    "在彩色图像转换到灰度图像后，\n",
    "\n",
    "再用该灰度图转换回彩色图像只是名义上多通道的彩色图像，人眼看到的却不是“彩色”了。 \n",
    "\n",
    "applyColorMap()，它可以将灰度图像转换成彩色图像，转换的模式达22种之多。"
   ]
  },
  {
   "cell_type": "code",
   "execution_count": 17,
   "id": "16d127f2-b78f-41d5-9fb0-21187dc49f9e",
   "metadata": {},
   "outputs": [],
   "source": [
    "import cv2 \n",
    "img_gray = cv2.imread(\"./images/lena.jpg\",0)\n",
    "for i in range(22):\n",
    "    dst = cv2.applyColorMap(img_gray,i) \n",
    "    cv2.imshow('map',dst) \n",
    "    cv2.waitKey(500)\n",
    "   # cv2.imwrite(\"map-\"+str(i)+\".jpg\",dst) \n",
    "cv2.destroyAllWindows()  "
   ]
  },
  {
   "cell_type": "markdown",
   "id": "65ff187a-3b2e-42b4-b898-171710741192",
   "metadata": {},
   "source": [
    "### 1.2 转换到HSV空间  \n",
    "\n",
    "HSV色彩空间\n",
    "\n",
    "- RGB是从硬件的角度提出的颜色模型，在与人眼匹配的过程中可能存在一定的差异，HSV色彩空间是一种面向视觉感知的颜色模型\n",
    "\n",
    "- 指出人眼的色彩知觉主要包含三要素：色调（Hue，也称为色相）、饱和度（Saturation）、亮度（Value）。\n",
    "\n",
    "- 色调指光的颜色，饱和度是指色彩的深浅程度，亮度指人眼感受到的光的明暗程度。\n"
   ]
  },
  {
   "cell_type": "code",
   "execution_count": 5,
   "id": "36d09e9b-c222-4db6-b9f7-2c10540c53fc",
   "metadata": {},
   "outputs": [],
   "source": [
    "import cv2\n",
    "\n",
    "img = cv2.imread(\"./images/lena.jpg\")\n",
    "hsv = cv2.cvtColor(img, cv2.COLOR_BGR2HSV)\n",
    "cv2.imshow(\"rgb\", img)\n",
    "cv2.imshow(\"hsv\", hsv)\n",
    "cv2.waitKey(0)\n",
    "cv2.destroyAllWindows()\n"
   ]
  },
  {
   "cell_type": "markdown",
   "id": "b52bb75c-ee8c-4d27-a330-4db8d99c8574",
   "metadata": {},
   "source": [
    "根据色调的值获取某种颜色，也就是可以通过在HSV的H通道上的值"
   ]
  },
  {
   "cell_type": "code",
   "execution_count": 13,
   "id": "de4996c7-1338-4eeb-9035-cff74e9f90b9",
   "metadata": {},
   "outputs": [],
   "source": [
    "img = cv2.imread(\"./images/lena.jpg\")\n",
    "hsv = cv2.cvtColor(img, cv2.COLOR_BGR2HSV)\n",
    "img[:, :, 0] = 255\n",
    "Blue = img\n",
    "blueHSV = cv2.cvtColor(img, cv2.COLOR_BGR2HSV)\n",
    "cv2.imshow(\"imgBlue\", Blue)\n",
    "cv2.imshow(\"blueHSV\", blueHSV)\n",
    "cv2.waitKey()\n",
    "cv2.destroyAllWindows()\n"
   ]
  },
  {
   "cell_type": "markdown",
   "id": "bd9fa700-c271-4351-8d79-d880715ba89f",
   "metadata": {},
   "source": [
    "### 1.3 HSV空间-物体跟踪 \n",
    "\n",
    "通过cv2.inRange()可以将图像内指定范围的值标注出来，在返回到mask中。\n",
    "\n",
    "如果图像的值位于该区间，则mask对应位置上的值为255，反之为0。\n",
    "\n",
    "通过掩摸按位与运算将指定颜色取出来。\n",
    "\n",
    "bitwise_and有了第3个参数mask，利用掩摸（mask）进行“与”操作\n",
    "\n",
    "即掩膜图像白色区域是对需要处理图像像素的保留，黑色区域是对需要处理图像像素的剔除。"
   ]
  },
  {
   "cell_type": "code",
   "execution_count": 6,
   "id": "217fafe0-09c9-4704-8a03-04125c40504a",
   "metadata": {},
   "outputs": [],
   "source": [
    "import cv2\n",
    "import numpy as np\n",
    "\n",
    "img = cv2.imread(\"./images/pinpan.jpg\")\n",
    "hsv = cv2.cvtColor(img, cv2.COLOR_BGR2HSV)\n",
    "cv2.imshow(\"hsv\", hsv)\n",
    "\n",
    "# 定蓝色的阈值\n",
    "# lower = np.array([110, 50, 50])\n",
    "# upper = np.array([130, 255, 255])\n",
    "\n",
    "#黄色-乒乓球\n",
    "lower = np.array([15, 100, 100])\n",
    "upper = np.array([30, 255, 255]) \n",
    "\n",
    "# 换到 HSV\n",
    "hsv = cv2.cvtColor(img, cv2.COLOR_BGR2HSV)\n",
    "# 根据阈值构建掩模\n",
    "mask = cv2.inRange(hsv, lower, upper)\n",
    "# 对原图像和掩模位运算\n",
    "res = cv2.bitwise_and(img, img, mask=mask)\n",
    "\n",
    "cv2.imshow(\"yellow\", res)\n",
    "cv2.waitKey()\n",
    "cv2.destroyAllWindows()"
   ]
  },
  {
   "cell_type": "markdown",
   "id": "ab448709-f76b-4326-8de5-236a9dd171f1",
   "metadata": {},
   "source": [
    "通过HSV实现在摄像头的物体跟踪"
   ]
  },
  {
   "cell_type": "code",
   "execution_count": 3,
   "id": "3b28501a-7b5e-47cb-8e95-21a13b4ed1aa",
   "metadata": {},
   "outputs": [],
   "source": [
    "import cv2\n",
    "import numpy as np\n",
    "\n",
    "'''\n",
    "物体跟踪\n",
    "\n",
    "• 从视频中获取每一帧图像\n",
    "• 将图像转换到 HSV 空间\n",
    "• 设置 HSV 阈值到蓝色范围。\n",
    "'''\n",
    "\n",
    "cap = cv2.VideoCapture(0)\n",
    "ret = cap.set(3, 640)\n",
    "ret = cap.set(4, 480)\n",
    "\n",
    "# 定蓝色的阈值\n",
    "# lower = np.array([110, 50, 50])\n",
    "# upper = np.array([130, 255, 255])\n",
    "\n",
    "#黄色-乒乓球\n",
    "lower = np.array([20, 100, 100])\n",
    "upper = np.array([30, 255, 255])\n",
    "\n",
    "# 黑色\n",
    "# lower_black = np.array([0, 0, 0])\n",
    "# upper_black = np.array([180, 255, 30])\n",
    "\n",
    "while True:\n",
    "    # 获取每一帧\n",
    "    ret, frame = cap.read()\n",
    "    # 换到 HSV\n",
    "    hsv = cv2.cvtColor(frame, cv2.COLOR_BGR2HSV)\n",
    "\n",
    "    # 根据阈值构建掩模\n",
    "    mask = cv2.inRange(hsv, lower, upper)\n",
    "    # mask = cv2.inRange(hsv, lower_black, upper_black)\n",
    "    # 对原图像和掩模位运算\n",
    "    res = cv2.bitwise_and(frame, frame, mask=mask)\n",
    "\n",
    "    # 显示图像\n",
    "    cv2.imshow('frame', frame)\n",
    "    cv2.moveWindow('frame', x=0, y=0)  # 原地\n",
    "    cv2.imshow('mask', mask)\n",
    "    cv2.moveWindow('mask', x=frame.shape[1], y=0)#右边\n",
    "    cv2.imshow('res', res)\n",
    "    cv2.moveWindow('res', y=frame.shape[0], x=0)#下边\n",
    "\n",
    "    k = cv2.waitKey(1)  # & 0xFF\n",
    "    if k == ord('q'):\n",
    "        break\n",
    "# 关闭窗口\n",
    "cap.release()\n",
    "cv2.destroyAllWindows()\n"
   ]
  },
  {
   "cell_type": "markdown",
   "id": "384d1a8b-a62a-4100-ac5a-579f3917ba99",
   "metadata": {},
   "source": [
    "### 1.4 查找确定HSV值 \n",
    "\n",
    "这是我们在stackoverflow.com中常见的问题。其实解决这个问题非常简单，你可以使用相同的函数cv.cvtColor()。\n",
    "\n",
    "你只需传递所需的BGR值，而不是传递图像。例如，要查找绿色的HSV值，在Python终端中输入以下命令：\n"
   ]
  },
  {
   "cell_type": "code",
   "execution_count": 4,
   "id": "c70a0a71-b28a-4d5a-8f04-7b975cfe152e",
   "metadata": {},
   "outputs": [
    {
     "data": {
      "text/plain": [
       "array([[[ 60, 255, 255]]], dtype=uint8)"
      ]
     },
     "execution_count": 4,
     "metadata": {},
     "output_type": "execute_result"
    }
   ],
   "source": [
    "import cv2\n",
    "import numpy as np\n",
    "\n",
    "# wrong\n",
    "# green=np.uint8([0,255,0])\n",
    "# hsv_green=cv2.cvtColor(green,cv2.COLOR_BGR2HSV)\n",
    "# hsv_green \n",
    "\n",
    "# 三层括号应 分别对应于 cvArray cvMat IplImage\n",
    "green = np.uint8([[[0, 255, 0]]])\n",
    "hsv_green = cv2.cvtColor(green, cv2.COLOR_BGR2HSV)\n",
    "hsv_green"
   ]
  },
  {
   "cell_type": "markdown",
   "id": "9f4f1626-e18e-4352-a8e5-140531e57a92",
   "metadata": {},
   "source": [
    "现在分别将[H-10,100,100]和[H+10,255,255]作为下限和上限。\n",
    "\n",
    "除了这种方法，你可以使用任何图像编辑工具如GIMP，或任何在线转换器来查找这些值，但不要忘记调整HSV范围。"
   ]
  }
 ],
 "metadata": {
  "kernelspec": {
   "display_name": "Python 3",
   "language": "python",
   "name": "python3"
  },
  "language_info": {
   "codemirror_mode": {
    "name": "ipython",
    "version": 3
   },
   "file_extension": ".py",
   "mimetype": "text/x-python",
   "name": "python",
   "nbconvert_exporter": "python",
   "pygments_lexer": "ipython3",
   "version": "3.8.3"
  }
 },
 "nbformat": 4,
 "nbformat_minor": 5
}
