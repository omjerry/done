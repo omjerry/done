{
 "cells": [
  {
   "cell_type": "markdown",
   "id": "a8d183d2-ba2e-4f37-bd75-9e49d4159605",
   "metadata": {},
   "source": [
    "# 角点检测   \n",
    "\n",
    "## 1.1 Harris角点检测  \n",
    "✔️ OpenCV 中的函数 cv2.cornerHarris() 可以用来进行角点检测，参数如下：\n",
    "\n",
    "- img - 输入图像。\n",
    "- blockSize - 角点检测中领域像素的大小。\n",
    "- ksize - Sobel 求导中使用的窗口大小\n",
    "- k - Harris 角点检测方程中的自由参数,取值参数为 [0.04,0.06]."
   ]
  },
  {
   "cell_type": "code",
   "execution_count": 4,
   "id": "bc5b0863-a8ad-4e05-a8c0-6e289492390f",
   "metadata": {},
   "outputs": [
    {
     "data": {
      "image/png": "[encoded data removed]",
      "text/plain": [
       "<PIL.Image.Image image mode=RGB size=640x480>"
      ]
     },
     "execution_count": 4,
     "metadata": {},
     "output_type": "execute_result"
    }
   ],
   "source": [
    "import cv2\n",
    "import numpy as np \n",
    "from PIL import Image\n",
    "\n",
    "filename = './images/chessboard.png'\n",
    "# filename = '../data/chessboard-3.png'\n",
    "# filename = '../data/corner-detection.jpg'\n",
    "\n",
    "img = cv2.imread(filename)\n",
    "img = cv2.resize(img, (640, 480))\n",
    "gray = cv2.cvtColor(img, cv2.COLOR_BGR2GRAY)\n",
    "gray = np.float32(gray)\n",
    "\n",
    "# 输入图像必 是 float32 最后一个参数在 0.04 到 0.05 之间\n",
    "dst = cv2.cornerHarris(gray, 2, 3, 0.04)\n",
    "# result is dilated for marking the corners, not important\n",
    "dst = cv2.dilate(dst, None)\n",
    "# Threshold for an optimal value, it may vary depending on the image.\n",
    "img[dst > 0.01 * dst.max()] = [0, 0, 255]\n",
    "Image.fromarray(img)"
   ]
  },
  {
   "cell_type": "markdown",
   "id": "fe99f217-a303-4c8b-a909-c400ed8677f4",
   "metadata": {},
   "source": [
    "##  1.2 亚像素级的角点检测  \n",
    "✔️ OpenCV中角点检测的结果实际不够精准，因为真实的计算中有些位置可能是在浮点数的空间内才最大值，这样就需要我们通过给定的响应值，在像素邻域空间进行拟合，实现亚像素级别的角点检测。 \n",
    "\n",
    "```\n",
    "cv2.cornerSubPix(\n",
    "    InputArray image,\n",
    "    InputOutputArray corners,\n",
    "    Size winSize,\n",
    "    Size zeroZone,\n",
    "    TermCriteria criteria \n",
    ")\n",
    "```\n",
    "- image单通道输入图像，八位或者浮点数。\n",
    "- corners是输入输出的关键点坐标集合。\n",
    "- winSize表示插值计算时候窗口大小。\n",
    "- zeroZone表示搜索区域中间的dead。 region边长的一半，有时用于避免自相关矩阵的奇异性。如果值设为(-1,-1)则表示没有这个区域。\n",
    "- criteria角点精准化迭代过程的终止条件"
   ]
  },
  {
   "cell_type": "code",
   "execution_count": null,
   "id": "d7d0d0b7-f5d0-4284-8f24-f37df4eeef81",
   "metadata": {},
   "outputs": [],
   "source": [
    "import numpy as np\n",
    "import cv2 as cv\n",
    "\n",
    "\n",
    "def process(image, opt=1):\n",
    "    # Detecting corners\n",
    "    gray = cv.cvtColor(image, cv.COLOR_BGR2GRAY)\n",
    "    corners = cv.goodFeaturesToTrack(gray, 100, 0.05, 10)\n",
    "    print(len(corners))\n",
    "    for pt in corners:\n",
    "        print(pt)\n",
    "        b = np.random.random_integers(0, 256)\n",
    "        g = np.random.random_integers(0, 256)\n",
    "        r = np.random.random_integers(0, 256)\n",
    "        x = np.int32(pt[0][0])\n",
    "        y = np.int32(pt[0][1])\n",
    "        cv.circle(image, (x, y), 5, (int(b), int(g), int(r)), 2)\n",
    "\n",
    "    # detect sub-pixel\n",
    "    winSize = (3, 3)\n",
    "    zeroZone = (-1, -1)\n",
    "\n",
    "    # Stop condition\n",
    "    criteria = (cv.TERM_CRITERIA_EPS + cv.TermCriteria_COUNT, 40, 0.001)\n",
    "    # Calculate the refined corner locations\n",
    "    corners = cv.cornerSubPix(gray, corners, winSize, zeroZone, criteria)\n",
    "    # display\n",
    "    for i in range(corners.shape[0]):\n",
    "        print(\" -- Refined Corner [\", i, \"]  (\", corners[i, 0, 0], \",\", corners[i, 0, 1], \")\")\n",
    "    return image\n",
    "\n",
    " \n",
    "\n",
    "filename = './images/chessboard.png'\n",
    "img = cv2.imread(filename)\n",
    "result = process(src)\n",
    "Image.fromarray(result)"
   ]
  }
 ],
 "metadata": {
  "kernelspec": {
   "display_name": "Python 3",
   "language": "python",
   "name": "python3"
  },
  "language_info": {
   "codemirror_mode": {
    "name": "ipython",
    "version": 3
   },
   "file_extension": ".py",
   "mimetype": "text/x-python",
   "name": "python",
   "nbconvert_exporter": "python",
   "pygments_lexer": "ipython3",
   "version": "3.8.3"
  }
 },
 "nbformat": 4,
 "nbformat_minor": 5
}
