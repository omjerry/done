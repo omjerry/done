{
 "cells": [
  {
   "cell_type": "markdown",
   "id": "2abb3a86-2417-46f0-b297-0ec01845c1fd",
   "metadata": {},
   "source": [
    "\n",
    "#  1. Numpy简易入门\n",
    "NumPy 的全称是“ **Numeric Python**”，它是 Python 的第三方扩展包，主要用来计算、处理一维或多维数组。\n",
    "\n",
    "- NumPy 是 Python 科学计算基础库；\n",
    "- NumPy 可以对数组进行高效的数学运算；\n",
    "- NumPy 的 ndarray 对象可以用来构建多维数组；\n",
    "- NumPy 能够执行傅立叶变换与重塑多维数组形状；\n",
    "- NumPy 提供了线性代数，以及随机数生成的内置函数。\n",
    "\n",
    "\n",
    "NumPy 通常与 SciPy（Python科学计算库）和 Matplotlib（Python绘图库）等软件包组合使用，这种组合方式被用来广泛地代替 MatLab 的使用。\n",
    "\n",
    "本节代码来自: **黄海广-机器学习** https://github.com/fengdu78/WZU-machine-learning-course 推荐自学\n",
    "\n",
    "**菜鸟Numpy教程**： https://www.runoob.com/numpy/numpy-tutorial.html  \n",
    "\n",
    "**C语言中文网教程**： http://c.biancheng.net/numpy/what-is-numpy.html "
   ]
  },
  {
   "cell_type": "markdown",
   "id": "8138e8ab-b55c-4808-9601-7b63ef63fe0b",
   "metadata": {},
   "source": [
    "<br/>"
   ]
  },
  {
   "cell_type": "markdown",
   "id": "f31fb46d-9600-4ae2-b15d-be6f6a8bd319",
   "metadata": {},
   "source": [
    "标准的Python中用list（列表）保存值，可以当做数组使用，但因为列表中的元素可以是任何对象，所以浪费了CPU运算时间和内存。\n",
    "\n",
    "NumPy诞生为了弥补这些缺陷。它提供了两种基本的对象：\n",
    "\n",
    "**ndarray**：全称（n-dimensional array object）是储存单一数据类型的多维数组。\n",
    "\n",
    "**ufunc**：全称（universal function object）它是一种能够对数组进行处理的函数。\n",
    "\n",
    "NumPy的官方文档：\n",
    "https://docs.scipy.org/doc/numpy/reference/\n",
    "\n",
    "CMD命令行中安装：`python -m pip install numpy`  \n",
    "\n",
    "安装后导入这个库`import numpy as np`\n"
   ]
  },
  {
   "cell_type": "markdown",
   "id": "5e173215-b777-4a2d-9431-d1d48decf175",
   "metadata": {},
   "source": [
    "</br>\n",
    "NumPy 定义了一个 n 维数组对象，简称 ndarray 对象，它是一个一系列相同类型元素组成的数组集合。\n",
    "\n",
    "数组中的每个元素都占有大小相同的内存块，您可以使用索引或切片的方式获取数组中的每个元素"
   ]
  },
  {
   "cell_type": "markdown",
   "id": "4b544ce0-24e5-466f-a248-08d8a52a4b9e",
   "metadata": {},
   "source": [
    "## 1.1 创建NumPy数组"
   ]
  },
  {
   "cell_type": "code",
   "execution_count": 1,
   "id": "2b8e0ce4-1c86-4233-b5b1-ead36f517f25",
   "metadata": {},
   "outputs": [],
   "source": [
    "import numpy as np"
   ]
  },
  {
   "cell_type": "code",
   "execution_count": 2,
   "id": "70321e2c-f8ba-4495-8033-538430e47e63",
   "metadata": {},
   "outputs": [
    {
     "data": {
      "text/plain": [
       "array([1, 2, 3])"
      ]
     },
     "execution_count": 2,
     "metadata": {},
     "output_type": "execute_result"
    }
   ],
   "source": [
    "data1 = np.array([1, 2, 3])                   # 创建一个一维数组\n",
    "data1"
   ]
  },
  {
   "cell_type": "code",
   "execution_count": 3,
   "id": "d6d5ee0f-e61e-40be-a9ed-346bf839b0e1",
   "metadata": {},
   "outputs": [
    {
     "data": {
      "text/plain": [
       "array([[1, 2, 3],\n",
       "       [4, 5, 6]])"
      ]
     },
     "execution_count": 3,
     "metadata": {},
     "output_type": "execute_result"
    }
   ],
   "source": [
    "data2 = np.array([[1, 2, 3], [4, 5, 6]])   # 创建一个二维数组\n",
    "data2"
   ]
  },
  {
   "cell_type": "code",
   "execution_count": 4,
   "id": "74a3bd43-c88e-4691-b562-e2a3531bcfb2",
   "metadata": {},
   "outputs": [
    {
     "data": {
      "text/plain": [
       "array([[0., 0., 0., 0.],\n",
       "       [0., 0., 0., 0.],\n",
       "       [0., 0., 0., 0.]])"
      ]
     },
     "execution_count": 4,
     "metadata": {},
     "output_type": "execute_result"
    }
   ],
   "source": [
    "np.zeros((3, 4))#创建一个全0数组"
   ]
  },
  {
   "cell_type": "code",
   "execution_count": 5,
   "id": "546f8ab2-363a-468c-a8ef-f59425c94ca7",
   "metadata": {},
   "outputs": [
    {
     "data": {
      "text/plain": [
       "array([[1., 1., 1., 1.],\n",
       "       [1., 1., 1., 1.],\n",
       "       [1., 1., 1., 1.]])"
      ]
     },
     "execution_count": 5,
     "metadata": {},
     "output_type": "execute_result"
    }
   ],
   "source": [
    "np.ones((3, 4))#创建全一数组"
   ]
  },
  {
   "cell_type": "code",
   "execution_count": 6,
   "id": "669050bd-03d7-43a1-a099-1e8a9f9478d7",
   "metadata": {},
   "outputs": [
    {
     "data": {
      "text/plain": [
       "array([[ 9.70176468e-312,  1.77863633e-322],\n",
       "       [ 0.00000000e+000,  0.00000000e+000],\n",
       "       [ 0.00000000e+000,  2.67818390e+184],\n",
       "       [ 1.74254523e-076,  5.25159449e-090],\n",
       "       [ 1.42106696e+161, -2.33593625e-310]])"
      ]
     },
     "execution_count": 6,
     "metadata": {},
     "output_type": "execute_result"
    }
   ],
   "source": [
    "np.empty((5, 2))# 创建全空数组，其实每个值都是接近于零的数"
   ]
  },
  {
   "cell_type": "code",
   "execution_count": 7,
   "id": "4bdfa2a8-5aed-4107-b457-b48acf711308",
   "metadata": {},
   "outputs": [
    {
     "data": {
      "text/plain": [
       "array([ 1,  6, 11, 16])"
      ]
     },
     "execution_count": 7,
     "metadata": {},
     "output_type": "execute_result"
    }
   ],
   "source": [
    "np.arange(1, 20, 5)"
   ]
  },
  {
   "cell_type": "code",
   "execution_count": 8,
   "id": "86a1f9f4-29f9-434e-ad71-1b0e44ee5c86",
   "metadata": {},
   "outputs": [
    {
     "data": {
      "text/plain": [
       "array([[1., 1., 1.],\n",
       "       [1., 1., 1.]])"
      ]
     },
     "execution_count": 8,
     "metadata": {},
     "output_type": "execute_result"
    }
   ],
   "source": [
    "np.ones((2, 3), dtype='float64')"
   ]
  },
  {
   "cell_type": "markdown",
   "id": "adf3f40c-99dc-4511-a86a-d2beeed5e9ed",
   "metadata": {},
   "source": [
    "**Python中list(列表)和ndarray对象的相互转换**\n"
   ]
  },
  {
   "cell_type": "code",
   "execution_count": 65,
   "id": "0e54c1d8-d5ba-493c-872f-8668d3922c16",
   "metadata": {},
   "outputs": [
    {
     "data": {
      "text/plain": [
       "[[1, 2, 3], [4, 5, 6]]"
      ]
     },
     "execution_count": 65,
     "metadata": {},
     "output_type": "execute_result"
    }
   ],
   "source": [
    "list_d2= data2.tolist()\n",
    "list_d2 "
   ]
  },
  {
   "cell_type": "code",
   "execution_count": 67,
   "id": "63ae9068-cdef-4f0b-968e-9995e63bbbe6",
   "metadata": {},
   "outputs": [
    {
     "data": {
      "text/plain": [
       "array([[1, 4, 7],\n",
       "       [2, 5, 8],\n",
       "       [3, 6, 9]])"
      ]
     },
     "execution_count": 67,
     "metadata": {},
     "output_type": "execute_result"
    }
   ],
   "source": [
    "arr_l = np.array([[1,4,7],[2,5,8],[3,6,9]])\n",
    "arr_l"
   ]
  },
  {
   "cell_type": "markdown",
   "id": "a04bf5e9-2d25-429f-b070-f948e83091ed",
   "metadata": {},
   "source": [
    "## 1.2 ndarray数组对象类型\n"
   ]
  },
  {
   "cell_type": "code",
   "execution_count": 9,
   "id": "7b6cf9bb-4384-4e75-ab12-891a9d7c627c",
   "metadata": {},
   "outputs": [
    {
     "data": {
      "text/plain": [
       "array([[ 0,  1,  2,  3],\n",
       "       [ 4,  5,  6,  7],\n",
       "       [ 8,  9, 10, 11]])"
      ]
     },
     "execution_count": 9,
     "metadata": {},
     "output_type": "execute_result"
    }
   ],
   "source": [
    "data = np.arange(12).reshape(3, 4)  # 创建一个3行4列的数组\n",
    "data"
   ]
  },
  {
   "cell_type": "code",
   "execution_count": 10,
   "id": "1c4627f8-1fc8-45a2-8509-ee95142606a2",
   "metadata": {},
   "outputs": [
    {
     "data": {
      "text/plain": [
       "numpy.ndarray"
      ]
     },
     "execution_count": 10,
     "metadata": {},
     "output_type": "execute_result"
    }
   ],
   "source": [
    "type(data)"
   ]
  },
  {
   "cell_type": "code",
   "execution_count": 11,
   "id": "89dd74ce-0124-46d4-a3fe-5e7290d8c393",
   "metadata": {},
   "outputs": [
    {
     "data": {
      "text/plain": [
       "2"
      ]
     },
     "execution_count": 11,
     "metadata": {},
     "output_type": "execute_result"
    }
   ],
   "source": [
    "data.ndim         # 数组维度的个数，输出结果2，表示二维数组"
   ]
  },
  {
   "cell_type": "code",
   "execution_count": 12,
   "id": "ddeb0630-10fa-418f-9c23-4e7af8e12f56",
   "metadata": {},
   "outputs": [
    {
     "data": {
      "text/plain": [
       "(3, 4)"
      ]
     },
     "execution_count": 12,
     "metadata": {},
     "output_type": "execute_result"
    }
   ],
   "source": [
    "data.shape        # 数组的维度，输出结果（3，4），表示3行4列"
   ]
  },
  {
   "cell_type": "code",
   "execution_count": 13,
   "id": "b4150e9a-bb36-4b12-a6cc-0e2f76d80160",
   "metadata": {},
   "outputs": [
    {
     "data": {
      "text/plain": [
       "12"
      ]
     },
     "execution_count": 13,
     "metadata": {},
     "output_type": "execute_result"
    }
   ],
   "source": [
    "data.size         # 数组元素的个数，输出结果12，表示总共有12个元素"
   ]
  },
  {
   "cell_type": "code",
   "execution_count": 14,
   "id": "d85c62ef-1e08-46c2-a3da-69098afcd090",
   "metadata": {},
   "outputs": [
    {
     "data": {
      "text/plain": [
       "dtype('int32')"
      ]
     },
     "execution_count": 14,
     "metadata": {},
     "output_type": "execute_result"
    }
   ],
   "source": [
    "data.dtype # 数组元素的类型，输出结果dtype('int32'),表示元素类型都是int32"
   ]
  },
  {
   "cell_type": "markdown",
   "id": "589d7934-343d-4dfc-96dd-0cbf463837e4",
   "metadata": {},
   "source": [
    "转换数据类型"
   ]
  },
  {
   "cell_type": "code",
   "execution_count": 15,
   "id": "6cbed0d3-5b14-48ff-9e3c-e33a84ced58f",
   "metadata": {},
   "outputs": [
    {
     "data": {
      "text/plain": [
       "(array([[ 0.,  1.,  2.,  3.],\n",
       "        [ 4.,  5.,  6.,  7.],\n",
       "        [ 8.,  9., 10., 11.]]),\n",
       " dtype('float64'))"
      ]
     },
     "execution_count": 15,
     "metadata": {},
     "output_type": "execute_result"
    }
   ],
   "source": [
    "float_data = data.astype(np.float64) # 数据类型转换为float64\n",
    "float_data,float_data.dtype"
   ]
  },
  {
   "cell_type": "code",
   "execution_count": 16,
   "id": "694a9330-8628-4ef1-9ee4-e0a8784ec254",
   "metadata": {},
   "outputs": [
    {
     "data": {
      "text/plain": [
       "array([1.2, 2.3, 3.5])"
      ]
     },
     "execution_count": 16,
     "metadata": {},
     "output_type": "execute_result"
    }
   ],
   "source": [
    "float_data = np.array([1.2, 2.3, 3.5])\n",
    "float_data"
   ]
  },
  {
   "cell_type": "code",
   "execution_count": 17,
   "id": "5f02b53e-36f5-458a-8d09-df4dbcb25732",
   "metadata": {},
   "outputs": [
    {
     "data": {
      "text/plain": [
       "array([1, 2, 3], dtype=int64)"
      ]
     },
     "execution_count": 17,
     "metadata": {},
     "output_type": "execute_result"
    }
   ],
   "source": [
    "int_data = float_data.astype(np.int64) # 数据类型转换为int64\n",
    "int_data"
   ]
  },
  {
   "cell_type": "code",
   "execution_count": 18,
   "id": "c24209fd-936e-4c57-8d0c-7d20a4973817",
   "metadata": {},
   "outputs": [
    {
     "data": {
      "text/plain": [
       "array(['1', '2', '3'], dtype='<U1')"
      ]
     },
     "execution_count": 18,
     "metadata": {},
     "output_type": "execute_result"
    }
   ],
   "source": [
    "str_data = np.array(['1', '2', '3'])\n",
    "str_data"
   ]
  },
  {
   "cell_type": "code",
   "execution_count": 19,
   "id": "3eb2ebfa-31e2-40e5-a53d-00c832e6b5b3",
   "metadata": {},
   "outputs": [
    {
     "data": {
      "text/plain": [
       "array([1, 2, 3], dtype=int64)"
      ]
     },
     "execution_count": 19,
     "metadata": {},
     "output_type": "execute_result"
    }
   ],
   "source": [
    "int_data = str_data.astype(np.int64)\n",
    "int_data"
   ]
  },
  {
   "cell_type": "markdown",
   "id": "0dab4daa-dd3b-45ef-b5dc-b495032004e0",
   "metadata": {},
   "source": [
    "## 1.3 数组运算 \n",
    "### 1.3.1  向量化运算"
   ]
  },
  {
   "cell_type": "code",
   "execution_count": 20,
   "id": "cb7f1df2-0d16-4e79-af68-0f99214d86c5",
   "metadata": {},
   "outputs": [],
   "source": [
    "import numpy as np"
   ]
  },
  {
   "cell_type": "code",
   "execution_count": 21,
   "id": "b6e2245c-3c02-4aa2-9c6e-a8058e21b3fe",
   "metadata": {},
   "outputs": [],
   "source": [
    "data1 = np.array([[1, 2, 3], [4, 5, 6]])\n",
    "data2 = np.array([[1, 2, 3], [4, 5, 6]])"
   ]
  },
  {
   "cell_type": "code",
   "execution_count": 22,
   "id": "8382f9ad-d11d-4272-9f99-c49e2a2f2ad5",
   "metadata": {},
   "outputs": [
    {
     "data": {
      "text/plain": [
       "array([[ 2,  4,  6],\n",
       "       [ 8, 10, 12]])"
      ]
     },
     "execution_count": 22,
     "metadata": {},
     "output_type": "execute_result"
    }
   ],
   "source": [
    "data1 + data2        # 数组相加"
   ]
  },
  {
   "cell_type": "code",
   "execution_count": 23,
   "id": "b82ce25c-aa39-46d7-ac92-25774861124e",
   "metadata": {},
   "outputs": [
    {
     "data": {
      "text/plain": [
       "array([[0, 0, 0],\n",
       "       [0, 0, 0]])"
      ]
     },
     "execution_count": 23,
     "metadata": {},
     "output_type": "execute_result"
    }
   ],
   "source": [
    "data1 - data2        # 数组相减"
   ]
  },
  {
   "cell_type": "code",
   "execution_count": 24,
   "id": "6d213f55-ecb6-4d99-b1be-288048725346",
   "metadata": {},
   "outputs": [
    {
     "data": {
      "text/plain": [
       "array([[ 1,  4,  9],\n",
       "       [16, 25, 36]])"
      ]
     },
     "execution_count": 24,
     "metadata": {},
     "output_type": "execute_result"
    }
   ],
   "source": [
    "data1 * data2        # 数组相乘"
   ]
  },
  {
   "cell_type": "code",
   "execution_count": 25,
   "id": "28e31cba-8051-438c-ab84-c4950d2e8b1f",
   "metadata": {},
   "outputs": [
    {
     "data": {
      "text/plain": [
       "array([[1., 1., 1.],\n",
       "       [1., 1., 1.]])"
      ]
     },
     "execution_count": 25,
     "metadata": {},
     "output_type": "execute_result"
    }
   ],
   "source": [
    "data1 / data2       # 数组相除"
   ]
  },
  {
   "cell_type": "markdown",
   "id": "76f7c708-f2ed-413f-9ae7-9de5cdd5e982",
   "metadata": {},
   "source": [
    "### 1.3.2 数组广播 \n",
    "numpy数组间的基础运算是一对一，也就是`a.shape==b.shape`，\n",
    "\n",
    "但是当两者不一样的时候，就会自动触发广播机制，如下例子："
   ]
  },
  {
   "cell_type": "code",
   "execution_count": 26,
   "id": "2f7480f3-181c-4623-898c-ebea5bc70d46",
   "metadata": {},
   "outputs": [],
   "source": [
    "import numpy as np\n",
    "a = np.array([[ 0, 0, 0],\n",
    "           [10,10,10],\n",
    "           [20,20,20],\n",
    "           [30,30,30]])\n",
    "#b数组与a数组形状不同\n",
    "b = np.array([1,2,3])"
   ]
  },
  {
   "cell_type": "code",
   "execution_count": 27,
   "id": "f48b8663-505f-4119-8513-b840ba0b8422",
   "metadata": {},
   "outputs": [
    {
     "data": {
      "text/plain": [
       "array([[ 1,  2,  3],\n",
       "       [11, 12, 13],\n",
       "       [21, 22, 23],\n",
       "       [31, 32, 33]])"
      ]
     },
     "execution_count": 27,
     "metadata": {},
     "output_type": "execute_result"
    }
   ],
   "source": [
    "a+b"
   ]
  },
  {
   "attachments": {
    "cb4d1daa-f602-4efa-956a-dfcc6b7be0f3.png": {
     "image/png": "[encoded data removed]"
    }
   },
   "cell_type": "markdown",
   "id": "36f58833-a3c6-4fb6-870d-9e33eef3260a",
   "metadata": {},
   "source": [
    "![image.png](attachment:cb4d1daa-f602-4efa-956a-dfcc6b7be0f3.png)"
   ]
  },
  {
   "cell_type": "markdown",
   "id": "50de0c97-3bbc-49d6-a442-68c05ec48e18",
   "metadata": {},
   "source": [
    "### 1.3.3 数组与标量间的运算\n"
   ]
  },
  {
   "cell_type": "code",
   "execution_count": 28,
   "id": "03d56b0e-ca28-49b3-a099-6ee6ab0f6d8a",
   "metadata": {},
   "outputs": [],
   "source": [
    "data1 = np.array([[1, 2, 3], [4, 5, 6]])\n",
    "data2 = 10 "
   ]
  },
  {
   "cell_type": "code",
   "execution_count": 29,
   "id": "cc48642e-19fd-4c90-bdb6-03eda1e14de1",
   "metadata": {},
   "outputs": [
    {
     "data": {
      "text/plain": [
       "array([[11, 12, 13],\n",
       "       [14, 15, 16]])"
      ]
     },
     "execution_count": 29,
     "metadata": {},
     "output_type": "execute_result"
    }
   ],
   "source": [
    "data1+data2"
   ]
  },
  {
   "cell_type": "code",
   "execution_count": 30,
   "id": "76f69ed3-bdb3-47b1-ae10-47c5fd3e7577",
   "metadata": {},
   "outputs": [
    {
     "data": {
      "text/plain": [
       "array([[11, 12, 13],\n",
       "       [14, 15, 16]])"
      ]
     },
     "execution_count": 30,
     "metadata": {},
     "output_type": "execute_result"
    }
   ],
   "source": [
    "data1 + data2      # 数组相加"
   ]
  },
  {
   "cell_type": "code",
   "execution_count": 31,
   "id": "f76f6ceb-7a42-4ae8-8f43-1732491cc128",
   "metadata": {},
   "outputs": [
    {
     "data": {
      "text/plain": [
       "array([[-9, -8, -7],\n",
       "       [-6, -5, -4]])"
      ]
     },
     "execution_count": 31,
     "metadata": {},
     "output_type": "execute_result"
    }
   ],
   "source": [
    "data1 - data2        # 数组相减"
   ]
  },
  {
   "cell_type": "code",
   "execution_count": 32,
   "id": "44b8db7b-2b10-4bee-9dde-562a9b7283af",
   "metadata": {},
   "outputs": [
    {
     "data": {
      "text/plain": [
       "array([[10, 20, 30],\n",
       "       [40, 50, 60]])"
      ]
     },
     "execution_count": 32,
     "metadata": {},
     "output_type": "execute_result"
    }
   ],
   "source": [
    "data1 * data2       # 数组相乘"
   ]
  },
  {
   "cell_type": "code",
   "execution_count": 33,
   "id": "3320dd86-a808-4ebb-af50-45635cfcbac9",
   "metadata": {},
   "outputs": [
    {
     "data": {
      "text/plain": [
       "array([[0.1, 0.2, 0.3],\n",
       "       [0.4, 0.5, 0.6]])"
      ]
     },
     "execution_count": 33,
     "metadata": {},
     "output_type": "execute_result"
    }
   ],
   "source": [
    "data1 / data2       # 数组相除"
   ]
  },
  {
   "cell_type": "markdown",
   "id": "0eaa44b1-591d-468c-9428-12c8dd34812e",
   "metadata": {},
   "source": [
    "## 1.4 ndarray的索引和切片\n",
    "\n",
    "ndarray的索引和切片与Python中可迭代对象（list,tuple,string）用法大致类似。"
   ]
  },
  {
   "cell_type": "code",
   "execution_count": 34,
   "id": "9e6a27f5-84b3-4b1d-9a6a-148aa6ec5b5b",
   "metadata": {},
   "outputs": [
    {
     "data": {
      "text/plain": [
       "(1, array([2, 3, 4]), array([1, 3, 5]))"
      ]
     },
     "execution_count": 34,
     "metadata": {},
     "output_type": "execute_result"
    }
   ],
   "source": [
    "arr = np.arange(8) # 创建一个一维数组\n",
    "arr[1],arr[2:5],arr[1:6:2] #   获取索引为1~6的元素，步长为2"
   ]
  },
  {
   "cell_type": "code",
   "execution_count": 35,
   "id": "1c4c828e-2e04-47b2-b994-197a23ae6c63",
   "metadata": {},
   "outputs": [],
   "source": [
    "arr2d = np.array([[1, 2, 3],[4, 5, 6],[7, 8, 9]]) # 创建二维数组"
   ]
  },
  {
   "cell_type": "code",
   "execution_count": 36,
   "id": "153bd6b5-bca0-4562-ac28-aa6c03789177",
   "metadata": {},
   "outputs": [
    {
     "data": {
      "text/plain": [
       "(array([4, 5, 6]), 5)"
      ]
     },
     "execution_count": 36,
     "metadata": {},
     "output_type": "execute_result"
    }
   ],
   "source": [
    "arr2d[1],arr2d[1][1]"
   ]
  },
  {
   "cell_type": "code",
   "execution_count": 37,
   "id": "c7ad617a-0047-4f47-ba95-7d4d75b09c2f",
   "metadata": {},
   "outputs": [
    {
     "data": {
      "text/plain": [
       "(array([[1, 2, 3],\n",
       "        [4, 5, 6]]),\n",
       " array([4, 5]))"
      ]
     },
     "execution_count": 37,
     "metadata": {},
     "output_type": "execute_result"
    }
   ],
   "source": [
    "arr2d[:2],arr2d[1,:2]"
   ]
  },
  {
   "cell_type": "markdown",
   "id": "53b8ebe5-6217-426f-9342-1dcef0ec6ad0",
   "metadata": {},
   "source": [
    "## 1.5 NumPy通用函数 "
   ]
  },
  {
   "cell_type": "code",
   "execution_count": 38,
   "id": "92609dfd-0829-43dc-b4dd-54d0f1d81cd7",
   "metadata": {},
   "outputs": [],
   "source": [
    "arr = np.array([4, 9, 16])"
   ]
  },
  {
   "cell_type": "code",
   "execution_count": 39,
   "id": "2cefc7a0-6ff5-4dc6-9bcd-c2fc5f019331",
   "metadata": {},
   "outputs": [
    {
     "data": {
      "text/plain": [
       "array([2., 3., 4.])"
      ]
     },
     "execution_count": 39,
     "metadata": {},
     "output_type": "execute_result"
    }
   ],
   "source": [
    "np.sqrt(arr)#开方"
   ]
  },
  {
   "cell_type": "code",
   "execution_count": 40,
   "id": "f09ed5a6-a658-49b7-b572-2fb2554c9016",
   "metadata": {},
   "outputs": [
    {
     "data": {
      "text/plain": [
       "array([ 4,  9, 16])"
      ]
     },
     "execution_count": 40,
     "metadata": {},
     "output_type": "execute_result"
    }
   ],
   "source": [
    "np.abs(arr)#求绝对值"
   ]
  },
  {
   "cell_type": "code",
   "execution_count": 41,
   "id": "6a38ce21-3e93-414d-b234-cab3dca88e39",
   "metadata": {},
   "outputs": [
    {
     "data": {
      "text/plain": [
       "array([ 16,  81, 256])"
      ]
     },
     "execution_count": 41,
     "metadata": {},
     "output_type": "execute_result"
    }
   ],
   "source": [
    "np.square(arr)#求平方"
   ]
  },
  {
   "cell_type": "code",
   "execution_count": 42,
   "id": "b6880eca-9373-4e6d-851c-573cc81efcb7",
   "metadata": {},
   "outputs": [],
   "source": [
    "x = np.array([12, 9, 13, 15])"
   ]
  },
  {
   "cell_type": "code",
   "execution_count": 43,
   "id": "ac5a7fca-dead-4493-b9c3-fb0b3b573534",
   "metadata": {},
   "outputs": [],
   "source": [
    "y = np.array([11, 10, 4, 8])"
   ]
  },
  {
   "cell_type": "code",
   "execution_count": 44,
   "id": "31499e38-a521-4c85-89ab-e603e0d7c9e7",
   "metadata": {},
   "outputs": [],
   "source": [
    "# np.add(x, y) np.multiply(x, y)  "
   ]
  },
  {
   "cell_type": "code",
   "execution_count": 45,
   "id": "9e80c24e-baf0-4404-b875-29b4f726b137",
   "metadata": {},
   "outputs": [
    {
     "data": {
      "text/plain": [
       "array([12, 10, 13, 15])"
      ]
     },
     "execution_count": 45,
     "metadata": {},
     "output_type": "execute_result"
    }
   ],
   "source": [
    "np.maximum(x, y)  # 两个数组元素级最大值的比较"
   ]
  },
  {
   "cell_type": "code",
   "execution_count": 46,
   "id": "9d517a7f-7915-4c36-b957-5b0393b8695c",
   "metadata": {},
   "outputs": [
    {
     "data": {
      "text/plain": [
       "array([ True, False,  True,  True])"
      ]
     },
     "execution_count": 46,
     "metadata": {},
     "output_type": "execute_result"
    }
   ],
   "source": [
    "np.greater(x, y)  # 执行元素级的比较操作"
   ]
  },
  {
   "cell_type": "markdown",
   "id": "915da08f-543d-4e6f-8dc1-b43f4a62914d",
   "metadata": {},
   "source": [
    "## 1.6 利用NumPy数组进行数据处理 "
   ]
  },
  {
   "cell_type": "code",
   "execution_count": 47,
   "id": "b5ba2775-58b9-47e7-b392-5be52bd0746d",
   "metadata": {},
   "outputs": [
    {
     "data": {
      "text/plain": [
       "array([1, 2, 3, 4, 5, 6, 7, 8, 9])"
      ]
     },
     "execution_count": 47,
     "metadata": {},
     "output_type": "execute_result"
    }
   ],
   "source": [
    "arr = np.arange(1,10)   \n",
    "arr"
   ]
  },
  {
   "cell_type": "code",
   "execution_count": 48,
   "id": "7173e714-d128-4761-8ba7-579282c98076",
   "metadata": {},
   "outputs": [
    {
     "data": {
      "text/plain": [
       "45"
      ]
     },
     "execution_count": 48,
     "metadata": {},
     "output_type": "execute_result"
    }
   ],
   "source": [
    "arr.sum()      # 求和"
   ]
  },
  {
   "cell_type": "code",
   "execution_count": 49,
   "id": "1ee1f21b-dd50-4616-86df-2263508e7303",
   "metadata": {},
   "outputs": [
    {
     "data": {
      "text/plain": [
       "5.0"
      ]
     },
     "execution_count": 49,
     "metadata": {},
     "output_type": "execute_result"
    }
   ],
   "source": [
    "arr.mean()     # 求平均值 "
   ]
  },
  {
   "cell_type": "code",
   "execution_count": 50,
   "id": "605c8e14-1303-481f-ab76-f727a2ba2eb0",
   "metadata": {},
   "outputs": [
    {
     "data": {
      "text/plain": [
       "1"
      ]
     },
     "execution_count": 50,
     "metadata": {},
     "output_type": "execute_result"
    }
   ],
   "source": [
    "arr.min()      # 求最小值"
   ]
  },
  {
   "cell_type": "code",
   "execution_count": 51,
   "id": "87e051b8-4639-44fd-bdd8-06db7f374177",
   "metadata": {},
   "outputs": [
    {
     "data": {
      "text/plain": [
       "9"
      ]
     },
     "execution_count": 51,
     "metadata": {},
     "output_type": "execute_result"
    }
   ],
   "source": [
    "arr.max()       # 求最大值"
   ]
  },
  {
   "cell_type": "code",
   "execution_count": 52,
   "id": "92be5f91-dd05-42d0-abe7-88c4650fadb2",
   "metadata": {},
   "outputs": [
    {
     "data": {
      "text/plain": [
       "0"
      ]
     },
     "execution_count": 52,
     "metadata": {},
     "output_type": "execute_result"
    }
   ],
   "source": [
    "arr.argmin()   # 求最小值的索引"
   ]
  },
  {
   "cell_type": "code",
   "execution_count": 53,
   "id": "828d41ee-6f60-49a6-958a-816e1a7cf5e5",
   "metadata": {},
   "outputs": [
    {
     "data": {
      "text/plain": [
       "array([ 1,  3,  6, 10, 15, 21, 28, 36, 45])"
      ]
     },
     "execution_count": 53,
     "metadata": {},
     "output_type": "execute_result"
    }
   ],
   "source": [
    "arr.cumsum()   # 计算元素的累计和"
   ]
  },
  {
   "cell_type": "code",
   "execution_count": 54,
   "id": "efdf38ff-5b22-41f1-91db-79997bacc0a8",
   "metadata": {},
   "outputs": [
    {
     "data": {
      "text/plain": [
       "array([     1,      2,      6,     24,    120,    720,   5040,  40320,\n",
       "       362880])"
      ]
     },
     "execution_count": 54,
     "metadata": {},
     "output_type": "execute_result"
    }
   ],
   "source": [
    "arr.cumprod()  # 计算元素的累计积"
   ]
  },
  {
   "cell_type": "markdown",
   "id": "547714ec-840c-4673-b08b-f25e3aa26361",
   "metadata": {},
   "source": [
    "## 1.7 随机数模块"
   ]
  },
  {
   "cell_type": "code",
   "execution_count": 55,
   "id": "f7028776-d859-4ee5-bce1-11c46b7f15bd",
   "metadata": {},
   "outputs": [
    {
     "data": {
      "text/plain": [
       "array([[0.69576812, 0.58002339, 0.8111664 ],\n",
       "       [0.64067189, 0.68919313, 0.70145569],\n",
       "       [0.5967098 , 0.91630882, 0.76594956]])"
      ]
     },
     "execution_count": 55,
     "metadata": {},
     "output_type": "execute_result"
    }
   ],
   "source": [
    "import numpy as np\n",
    "np.random.rand(3, 3)     # 随机生成一个二维数组"
   ]
  },
  {
   "cell_type": "code",
   "execution_count": 56,
   "id": "eb594bf2-a42b-4517-a36e-cd6ecce5bebf",
   "metadata": {},
   "outputs": [
    {
     "data": {
      "text/plain": [
       "array([[[0.06026788, 0.35696925, 0.9643501 ],\n",
       "        [0.73402283, 0.07446614, 0.76484565],\n",
       "        [0.95269283, 0.42213954, 0.50329953]],\n",
       "\n",
       "       [[0.89926545, 0.50240875, 0.27924173],\n",
       "        [0.19635104, 0.66497443, 0.17619637],\n",
       "        [0.03066481, 0.80543011, 0.41399586]]])"
      ]
     },
     "execution_count": 56,
     "metadata": {},
     "output_type": "execute_result"
    }
   ],
   "source": [
    "np.random.rand(2, 3, 3) # 随机生成一个三维数组"
   ]
  },
  {
   "cell_type": "code",
   "execution_count": 57,
   "id": "002e00c8-f6c8-47cb-823d-ff696b82ab47",
   "metadata": {},
   "outputs": [],
   "source": [
    "np.random.seed(0)   # 生成随机数的种子"
   ]
  },
  {
   "cell_type": "code",
   "execution_count": 58,
   "id": "3ea7c5f9-b4a5-44f6-8298-5b5d3b397c99",
   "metadata": {},
   "outputs": [
    {
     "data": {
      "text/plain": [
       "array([0.5488135 , 0.71518937, 0.60276338, 0.54488318, 0.4236548 ])"
      ]
     },
     "execution_count": 58,
     "metadata": {},
     "output_type": "execute_result"
    }
   ],
   "source": [
    "np.random.rand(5)   # 随机生成包含5个元素的浮点数组"
   ]
  },
  {
   "cell_type": "code",
   "execution_count": 59,
   "id": "07e238db-ac13-4d77-93c7-dff249456874",
   "metadata": {},
   "outputs": [],
   "source": [
    "np.random.seed()"
   ]
  },
  {
   "cell_type": "code",
   "execution_count": 60,
   "id": "56d8d08b-0fd5-4365-a80d-f86effeb0dc0",
   "metadata": {},
   "outputs": [
    {
     "data": {
      "text/plain": [
       "array([0.72612318, 0.07898037, 0.1804478 , 0.85119978, 0.8472926 ])"
      ]
     },
     "execution_count": 60,
     "metadata": {},
     "output_type": "execute_result"
    }
   ],
   "source": [
    "np.random.rand(5)"
   ]
  }
 ],
 "metadata": {
  "kernelspec": {
   "display_name": "Python 3",
   "language": "python",
   "name": "python3"
  },
  "language_info": {
   "codemirror_mode": {
    "name": "ipython",
    "version": 3
   },
   "file_extension": ".py",
   "mimetype": "text/x-python",
   "name": "python",
   "nbconvert_exporter": "python",
   "pygments_lexer": "ipython3",
   "version": "3.8.3"
  }
 },
 "nbformat": 4,
 "nbformat_minor": 5
}
