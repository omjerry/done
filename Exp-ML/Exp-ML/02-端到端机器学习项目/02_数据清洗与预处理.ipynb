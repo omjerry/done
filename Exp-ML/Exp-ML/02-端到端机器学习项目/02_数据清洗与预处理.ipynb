{
 "cells": [
  {
   "cell_type": "markdown",
   "metadata": {},
   "source": [
    "# 数据清洗与预处理 \n",
    "\n",
    "本节代码来自: https://github.com/Day-yong/Machine_Learning  推荐自学  \n",
    "\n",
    "数据来源：[数据采集与爬虫](https://github.com/Day-yong/Machine_Learning/blob/master/09_%E6%9C%BA%E5%99%A8%E5%AD%A6%E4%B9%A0%E9%A1%B9%E7%9B%AE%E5%85%A8%E6%B5%81%E7%A8%8B/01_%E6%95%B0%E6%8D%AE%E9%87%87%E9%9B%86%E4%B8%8E%E7%88%AC%E8%99%AB.ipynb)，请仔细阅读01-数据采集部分。   \n",
    "\n",
    "## 一、常见的数据清洗解决方案\n",
    "\n",
    "【脏数据的表现形式包括】：\n",
    "- 数据串行，尤其是长文本情形下\n",
    "- 数值变量种混有文本/格式混乱\n",
    "- 各种符号乱入\n",
    "- 数据记录错误大段缺失（某种意义上不算脏数据）\n",
    "\n",
    "### 缺失值处理方法：\n",
    "- 删除:超过70%以上的缺失\n",
    "- 填充\n"
   ]
  },
  {
   "cell_type": "code",
   "execution_count": 1,
   "metadata": {},
   "outputs": [
    {
     "data": {
      "text/html": [
       "<div>\n",
       "<style scoped>\n",
       "    .dataframe tbody tr th:only-of-type {\n",
       "        vertical-align: middle;\n",
       "    }\n",
       "\n",
       "    .dataframe tbody tr th {\n",
       "        vertical-align: top;\n",
       "    }\n",
       "\n",
       "    .dataframe thead th {\n",
       "        text-align: right;\n",
       "    }\n",
       "</style>\n",
       "<table border=\"1\" class=\"dataframe\">\n",
       "  <thead>\n",
       "    <tr style=\"text-align: right;\">\n",
       "      <th></th>\n",
       "      <th>A</th>\n",
       "      <th>B</th>\n",
       "      <th>C</th>\n",
       "      <th>D</th>\n",
       "      <th>E</th>\n",
       "    </tr>\n",
       "  </thead>\n",
       "  <tbody>\n",
       "    <tr>\n",
       "      <th>2023-01-01</th>\n",
       "      <td>1.009046</td>\n",
       "      <td>-0.918279</td>\n",
       "      <td>-0.275281</td>\n",
       "      <td>1.179399</td>\n",
       "      <td>1.0</td>\n",
       "    </tr>\n",
       "    <tr>\n",
       "      <th>2023-01-02</th>\n",
       "      <td>-0.650371</td>\n",
       "      <td>-0.458422</td>\n",
       "      <td>1.602462</td>\n",
       "      <td>-1.130024</td>\n",
       "      <td>1.0</td>\n",
       "    </tr>\n",
       "    <tr>\n",
       "      <th>2023-01-03</th>\n",
       "      <td>2.312536</td>\n",
       "      <td>-0.506544</td>\n",
       "      <td>-0.295946</td>\n",
       "      <td>-1.155632</td>\n",
       "      <td>NaN</td>\n",
       "    </tr>\n",
       "    <tr>\n",
       "      <th>2023-01-04</th>\n",
       "      <td>-0.246867</td>\n",
       "      <td>0.537559</td>\n",
       "      <td>-1.304588</td>\n",
       "      <td>-0.614367</td>\n",
       "      <td>NaN</td>\n",
       "    </tr>\n",
       "  </tbody>\n",
       "</table>\n",
       "</div>"
      ],
      "text/plain": [
       "                   A         B         C         D    E\n",
       "2023-01-01  1.009046 -0.918279 -0.275281  1.179399  1.0\n",
       "2023-01-02 -0.650371 -0.458422  1.602462 -1.130024  1.0\n",
       "2023-01-03  2.312536 -0.506544 -0.295946 -1.155632  NaN\n",
       "2023-01-04 -0.246867  0.537559 -1.304588 -0.614367  NaN"
      ]
     },
     "execution_count": 1,
     "metadata": {},
     "output_type": "execute_result"
    }
   ],
   "source": [
    "import pandas as pd\n",
    "import numpy as np\n",
    "\n",
    "\n",
    "dates = pd.date_range('20230101', periods=6)\n",
    "df = pd.DataFrame(np.random.randn(6,4),index=dates,columns=list('ABCD'))\n",
    "df1 = df.reindex(index=dates[0:4],columns=list(df.columns)+['E'])\n",
    "df1.loc[dates[0]:dates[1],'E']=1\n",
    "df1"
   ]
  },
  {
   "cell_type": "code",
   "execution_count": 2,
   "metadata": {},
   "outputs": [
    {
     "data": {
      "text/html": [
       "<div>\n",
       "<style scoped>\n",
       "    .dataframe tbody tr th:only-of-type {\n",
       "        vertical-align: middle;\n",
       "    }\n",
       "\n",
       "    .dataframe tbody tr th {\n",
       "        vertical-align: top;\n",
       "    }\n",
       "\n",
       "    .dataframe thead th {\n",
       "        text-align: right;\n",
       "    }\n",
       "</style>\n",
       "<table border=\"1\" class=\"dataframe\">\n",
       "  <thead>\n",
       "    <tr style=\"text-align: right;\">\n",
       "      <th></th>\n",
       "      <th>A</th>\n",
       "      <th>B</th>\n",
       "      <th>C</th>\n",
       "      <th>D</th>\n",
       "      <th>E</th>\n",
       "    </tr>\n",
       "  </thead>\n",
       "  <tbody>\n",
       "    <tr>\n",
       "      <th>2023-01-01</th>\n",
       "      <td>1.009046</td>\n",
       "      <td>-0.918279</td>\n",
       "      <td>-0.275281</td>\n",
       "      <td>1.179399</td>\n",
       "      <td>1.0</td>\n",
       "    </tr>\n",
       "    <tr>\n",
       "      <th>2023-01-02</th>\n",
       "      <td>-0.650371</td>\n",
       "      <td>-0.458422</td>\n",
       "      <td>1.602462</td>\n",
       "      <td>-1.130024</td>\n",
       "      <td>1.0</td>\n",
       "    </tr>\n",
       "  </tbody>\n",
       "</table>\n",
       "</div>"
      ],
      "text/plain": [
       "                   A         B         C         D    E\n",
       "2023-01-01  1.009046 -0.918279 -0.275281  1.179399  1.0\n",
       "2023-01-02 -0.650371 -0.458422  1.602462 -1.130024  1.0"
      ]
     },
     "execution_count": 2,
     "metadata": {},
     "output_type": "execute_result"
    }
   ],
   "source": [
    "#删除包含任何缺失的行\n",
    "df1.dropna(how='any')"
   ]
  },
  {
   "cell_type": "code",
   "execution_count": 3,
   "metadata": {},
   "outputs": [
    {
     "data": {
      "text/html": [
       "<div>\n",
       "<style scoped>\n",
       "    .dataframe tbody tr th:only-of-type {\n",
       "        vertical-align: middle;\n",
       "    }\n",
       "\n",
       "    .dataframe tbody tr th {\n",
       "        vertical-align: top;\n",
       "    }\n",
       "\n",
       "    .dataframe thead th {\n",
       "        text-align: right;\n",
       "    }\n",
       "</style>\n",
       "<table border=\"1\" class=\"dataframe\">\n",
       "  <thead>\n",
       "    <tr style=\"text-align: right;\">\n",
       "      <th></th>\n",
       "      <th>A</th>\n",
       "      <th>B</th>\n",
       "      <th>C</th>\n",
       "      <th>D</th>\n",
       "      <th>E</th>\n",
       "    </tr>\n",
       "  </thead>\n",
       "  <tbody>\n",
       "    <tr>\n",
       "      <th>2023-01-01</th>\n",
       "      <td>1.009046</td>\n",
       "      <td>-0.918279</td>\n",
       "      <td>-0.275281</td>\n",
       "      <td>1.179399</td>\n",
       "      <td>1.0</td>\n",
       "    </tr>\n",
       "    <tr>\n",
       "      <th>2023-01-02</th>\n",
       "      <td>-0.650371</td>\n",
       "      <td>-0.458422</td>\n",
       "      <td>1.602462</td>\n",
       "      <td>-1.130024</td>\n",
       "      <td>1.0</td>\n",
       "    </tr>\n",
       "    <tr>\n",
       "      <th>2023-01-03</th>\n",
       "      <td>2.312536</td>\n",
       "      <td>-0.506544</td>\n",
       "      <td>-0.295946</td>\n",
       "      <td>-1.155632</td>\n",
       "      <td>5.0</td>\n",
       "    </tr>\n",
       "    <tr>\n",
       "      <th>2023-01-04</th>\n",
       "      <td>-0.246867</td>\n",
       "      <td>0.537559</td>\n",
       "      <td>-1.304588</td>\n",
       "      <td>-0.614367</td>\n",
       "      <td>5.0</td>\n",
       "    </tr>\n",
       "  </tbody>\n",
       "</table>\n",
       "</div>"
      ],
      "text/plain": [
       "                   A         B         C         D    E\n",
       "2023-01-01  1.009046 -0.918279 -0.275281  1.179399  1.0\n",
       "2023-01-02 -0.650371 -0.458422  1.602462 -1.130024  1.0\n",
       "2023-01-03  2.312536 -0.506544 -0.295946 -1.155632  5.0\n",
       "2023-01-04 -0.246867  0.537559 -1.304588 -0.614367  5.0"
      ]
     },
     "execution_count": 3,
     "metadata": {},
     "output_type": "execute_result"
    }
   ],
   "source": [
    "#对缺失值进行填充\n",
    "df1.fillna(value=5)"
   ]
  },
  {
   "cell_type": "code",
   "execution_count": 4,
   "metadata": {},
   "outputs": [
    {
     "data": {
      "text/html": [
       "<div>\n",
       "<style scoped>\n",
       "    .dataframe tbody tr th:only-of-type {\n",
       "        vertical-align: middle;\n",
       "    }\n",
       "\n",
       "    .dataframe tbody tr th {\n",
       "        vertical-align: top;\n",
       "    }\n",
       "\n",
       "    .dataframe thead th {\n",
       "        text-align: right;\n",
       "    }\n",
       "</style>\n",
       "<table border=\"1\" class=\"dataframe\">\n",
       "  <thead>\n",
       "    <tr style=\"text-align: right;\">\n",
       "      <th></th>\n",
       "      <th>A</th>\n",
       "      <th>B</th>\n",
       "      <th>C</th>\n",
       "      <th>D</th>\n",
       "      <th>E</th>\n",
       "    </tr>\n",
       "  </thead>\n",
       "  <tbody>\n",
       "    <tr>\n",
       "      <th>2023-01-01</th>\n",
       "      <td>1.009046</td>\n",
       "      <td>-0.918279</td>\n",
       "      <td>-0.275281</td>\n",
       "      <td>1.179399</td>\n",
       "      <td>1.00000</td>\n",
       "    </tr>\n",
       "    <tr>\n",
       "      <th>2023-01-02</th>\n",
       "      <td>-0.650371</td>\n",
       "      <td>-0.458422</td>\n",
       "      <td>1.602462</td>\n",
       "      <td>-1.130024</td>\n",
       "      <td>1.00000</td>\n",
       "    </tr>\n",
       "    <tr>\n",
       "      <th>2023-01-03</th>\n",
       "      <td>2.312536</td>\n",
       "      <td>-0.506544</td>\n",
       "      <td>-0.295946</td>\n",
       "      <td>-1.155632</td>\n",
       "      <td>0.48251</td>\n",
       "    </tr>\n",
       "    <tr>\n",
       "      <th>2023-01-04</th>\n",
       "      <td>-0.246867</td>\n",
       "      <td>0.537559</td>\n",
       "      <td>-1.304588</td>\n",
       "      <td>-0.614367</td>\n",
       "      <td>0.48251</td>\n",
       "    </tr>\n",
       "  </tbody>\n",
       "</table>\n",
       "</div>"
      ],
      "text/plain": [
       "                   A         B         C         D        E\n",
       "2023-01-01  1.009046 -0.918279 -0.275281  1.179399  1.00000\n",
       "2023-01-02 -0.650371 -0.458422  1.602462 -1.130024  1.00000\n",
       "2023-01-03  2.312536 -0.506544 -0.295946 -1.155632  0.48251\n",
       "2023-01-04 -0.246867  0.537559 -1.304588 -0.614367  0.48251"
      ]
     },
     "execution_count": 4,
     "metadata": {},
     "output_type": "execute_result"
    }
   ],
   "source": [
    "df1.fillna(df['A'].mean())"
   ]
  },
  {
   "cell_type": "markdown",
   "metadata": {},
   "source": [
    "### 小文本与字符串处理：\n",
    "- python 字符串处理函数\n",
    "- 正则表达式"
   ]
  },
  {
   "cell_type": "code",
   "execution_count": 5,
   "metadata": {},
   "outputs": [
    {
     "data": {
      "text/plain": [
       "'louwill is a machine learning engineer.'"
      ]
     },
     "execution_count": 5,
     "metadata": {},
     "output_type": "execute_result"
    }
   ],
   "source": [
    "# 去除空格\n",
    "char = '    louwill is a machine learning engineer.    '\n",
    "char.strip()"
   ]
  },
  {
   "cell_type": "code",
   "execution_count": 6,
   "metadata": {},
   "outputs": [
    {
     "data": {
      "text/plain": [
       "['louwill', 'is', 'a', 'machine', 'learning', 'engineer.']"
      ]
     },
     "execution_count": 6,
     "metadata": {},
     "output_type": "execute_result"
    }
   ],
   "source": [
    "# 字符串分割\n",
    "char2 = 'louwill,is,a,machine,learning,engineer.'\n",
    "char2.split(',')"
   ]
  },
  {
   "cell_type": "code",
   "execution_count": 7,
   "metadata": {},
   "outputs": [
    {
     "data": {
      "text/plain": [
       "'louwill,is,a,machine,learning,engineer.'"
      ]
     },
     "execution_count": 7,
     "metadata": {},
     "output_type": "execute_result"
    }
   ],
   "source": [
    "# 拼接：列表转字符串\n",
    "char2_2 = char2.split(',')\n",
    "','.join(char2_2)"
   ]
  },
  {
   "cell_type": "code",
   "execution_count": 8,
   "metadata": {},
   "outputs": [
    {
     "data": {
      "text/plain": [
       "'louwill is a machine learning engineer.'"
      ]
     },
     "execution_count": 8,
     "metadata": {},
     "output_type": "execute_result"
    }
   ],
   "source": [
    "# 字符替换\n",
    "char2.replace(',', ' ')"
   ]
  },
  {
   "cell_type": "markdown",
   "metadata": {},
   "source": [
    "#### 正则表达式 \n",
    "- re模块  \n",
    "\n",
    "对这部分感兴趣，推荐自学[字符串和正则表达式](https://github.com/jackfrued/Python-100-Days/blob/master/Day01-15/12.%E5%AD%97%E7%AC%A6%E4%B8%B2%E5%92%8C%E6%AD%A3%E5%88%99%E8%A1%A8%E8%BE%BE%E5%BC%8F.md)。 \n"
   ]
  },
  {
   "cell_type": "code",
   "execution_count": 9,
   "metadata": {},
   "outputs": [
    {
     "name": "stdout",
     "output_type": "stream",
     "text": [
      "['good', 'cool']\n"
     ]
    }
   ],
   "source": [
    "import re\n",
    "\n",
    "# compile函数：编译正则表达式模式\n",
    "# re.compile(pattern, flag=0)\n",
    "text1 = 'lebron is a slight good person, he is cool.'\n",
    "rr = re.compile(r'\\w*oo\\w*')\n",
    "print(rr.findall(text1))"
   ]
  },
  {
   "cell_type": "code",
   "execution_count": 10,
   "metadata": {},
   "outputs": [
    {
     "name": "stdout",
     "output_type": "stream",
     "text": [
      "com\n"
     ]
    }
   ],
   "source": [
    "# match函数：从字符串首开始匹配\n",
    "# re.match(pattern, string, flag=0)\n",
    "print(re.match('com', 'com.louwill.con').group())"
   ]
  },
  {
   "cell_type": "code",
   "execution_count": 11,
   "metadata": {},
   "outputs": [],
   "source": [
    "# search函数：对字符串启动查找模式进行匹配，找到第一个并返回\n",
    "# re.search(pattern, string, flags=0)\n",
    "# sub 函数：替换字符串中每一个匹配的子串并返回替换后的字符串\n",
    "# re.sub(pattern, repl, string, count)"
   ]
  },
  {
   "cell_type": "markdown",
   "metadata": {},
   "source": [
    "## 二、招聘数据的清洗过程"
   ]
  },
  {
   "cell_type": "code",
   "execution_count": 12,
   "metadata": {},
   "outputs": [
    {
     "data": {
      "text/html": [
       "<div>\n",
       "<style scoped>\n",
       "    .dataframe tbody tr th:only-of-type {\n",
       "        vertical-align: middle;\n",
       "    }\n",
       "\n",
       "    .dataframe tbody tr th {\n",
       "        vertical-align: top;\n",
       "    }\n",
       "\n",
       "    .dataframe thead th {\n",
       "        text-align: right;\n",
       "    }\n",
       "</style>\n",
       "<table border=\"1\" class=\"dataframe\">\n",
       "  <thead>\n",
       "    <tr style=\"text-align: right;\">\n",
       "      <th></th>\n",
       "      <th>address</th>\n",
       "      <th>advantage</th>\n",
       "      <th>city</th>\n",
       "      <th>company_name</th>\n",
       "      <th>education</th>\n",
       "      <th>industry</th>\n",
       "      <th>industryLables</th>\n",
       "      <th>label</th>\n",
       "      <th>position_detail</th>\n",
       "      <th>position_name</th>\n",
       "      <th>salary</th>\n",
       "      <th>size</th>\n",
       "      <th>stage</th>\n",
       "      <th>work_year</th>\n",
       "    </tr>\n",
       "  </thead>\n",
       "  <tbody>\n",
       "    <tr>\n",
       "      <th>0</th>\n",
       "      <td>['科华北路', '桂溪', '四川大学']</td>\n",
       "      <td>工作氛围好</td>\n",
       "      <td>成都</td>\n",
       "      <td>达疆网络科技（上海）有限公司</td>\n",
       "      <td>本科</td>\n",
       "      <td>O2O</td>\n",
       "      <td>[]</td>\n",
       "      <td>['年底双薪', '绩效奖金', '岗位晋升', '定期体检']</td>\n",
       "      <td>\\r职位描述：\\r\\r工作职责：?\\r1、负责新零售业务的数据分析工作，挖掘数据分析需求，制...</td>\n",
       "      <td>数据分析师</td>\n",
       "      <td>10k-20k</td>\n",
       "      <td>2000人以上</td>\n",
       "      <td>D轮及以上</td>\n",
       "      <td>1-3年</td>\n",
       "    </tr>\n",
       "    <tr>\n",
       "      <th>1</th>\n",
       "      <td>NaN</td>\n",
       "      <td>六险二金,晋升通道,独当一面,话语权</td>\n",
       "      <td>北京</td>\n",
       "      <td>贝壳找房（北京）科技有限公司</td>\n",
       "      <td>本科</td>\n",
       "      <td>移动互联网,O2O</td>\n",
       "      <td>['大数据', '商业']</td>\n",
       "      <td>['股票期权', '带薪年假', '绩效奖金', '扁平管理']</td>\n",
       "      <td>\\r职位描述：\\r\\r工作职责:方向一、经营分析/指标体系1. 参与公司核心策略的数据分析，...</td>\n",
       "      <td>数据分析类</td>\n",
       "      <td>25k-40k</td>\n",
       "      <td>2000人以上</td>\n",
       "      <td>C轮</td>\n",
       "      <td>5-10年</td>\n",
       "    </tr>\n",
       "    <tr>\n",
       "      <th>2</th>\n",
       "      <td>['中关村', '万泉河', '苏州街']</td>\n",
       "      <td>五险一金</td>\n",
       "      <td>北京</td>\n",
       "      <td>杭州财米科技有限公司</td>\n",
       "      <td>不限</td>\n",
       "      <td>移动互联网,金融</td>\n",
       "      <td>[]</td>\n",
       "      <td>['年底多薪', '岗位晋升', '定期体检', '五险一金']</td>\n",
       "      <td>\\r职位描述：\\r\\r职位描述：\\r1、收集、处理用户海量数据，挖掘用户行为特征，为产品、运...</td>\n",
       "      <td>数据分析师 (MJ000766)</td>\n",
       "      <td>10k-15k</td>\n",
       "      <td>500-2000人</td>\n",
       "      <td>C轮</td>\n",
       "      <td>1-3年</td>\n",
       "    </tr>\n",
       "  </tbody>\n",
       "</table>\n",
       "</div>"
      ],
      "text/plain": [
       "                  address           advantage city    company_name education  \\\n",
       "0  ['科华北路', '桂溪', '四川大学']               工作氛围好   成都  达疆网络科技（上海）有限公司        本科   \n",
       "1                     NaN  六险二金,晋升通道,独当一面,话语权   北京  贝壳找房（北京）科技有限公司        本科   \n",
       "2   ['中关村', '万泉河', '苏州街']                五险一金   北京      杭州财米科技有限公司        不限   \n",
       "\n",
       "    industry industryLables                             label  \\\n",
       "0        O2O             []  ['年底双薪', '绩效奖金', '岗位晋升', '定期体检']   \n",
       "1  移动互联网,O2O  ['大数据', '商业']  ['股票期权', '带薪年假', '绩效奖金', '扁平管理']   \n",
       "2   移动互联网,金融             []  ['年底多薪', '岗位晋升', '定期体检', '五险一金']   \n",
       "\n",
       "                                     position_detail     position_name  \\\n",
       "0  \\r职位描述：\\r\\r工作职责：?\\r1、负责新零售业务的数据分析工作，挖掘数据分析需求，制...             数据分析师   \n",
       "1  \\r职位描述：\\r\\r工作职责:方向一、经营分析/指标体系1. 参与公司核心策略的数据分析，...             数据分析类   \n",
       "2  \\r职位描述：\\r\\r职位描述：\\r1、收集、处理用户海量数据，挖掘用户行为特征，为产品、运...  数据分析师 (MJ000766)   \n",
       "\n",
       "    salary       size  stage work_year  \n",
       "0  10k-20k    2000人以上  D轮及以上      1-3年  \n",
       "1  25k-40k    2000人以上     C轮     5-10年  \n",
       "2  10k-15k  500-2000人     C轮      1-3年  "
      ]
     },
     "execution_count": 12,
     "metadata": {},
     "output_type": "execute_result"
    }
   ],
   "source": [
    "import numpy as np\n",
    "import pandas as pd\n",
    "import warnings\n",
    "warnings.filterwarnings('ignore')\n",
    "\n",
    "data1 = pd.read_csv('./data_analysis.csv', encoding='utf-8', index_col=0)\n",
    "data2 = pd.read_csv('./machine_learning.csv', encoding='utf-8', index_col=0)\n",
    "data3 = pd.read_csv('./data_mining.csv', encoding='utf-8', index_col=0)\n",
    "data4 = pd.read_csv('./deep_learning.csv', encoding='utf-8', index_col=0)\n",
    "\n",
    "data = pd.concat((pd.concat((pd.concat((data1, data2)), data3)), data4)).reset_index(drop=True)\n",
    "data.head(3)"
   ]
  },
  {
   "cell_type": "code",
   "execution_count": null,
   "metadata": {},
   "outputs": [],
   "source": [
    "data.info()"
   ]
  },
  {
   "cell_type": "code",
   "execution_count": 14,
   "metadata": {},
   "outputs": [
    {
     "data": {
      "text/plain": [
       "0    ['科华北路', '桂溪', '四川大学']\n",
       "1                    ['未知']\n",
       "2     ['中关村', '万泉河', '苏州街']\n",
       "3              ['琶洲', '官洲']\n",
       "4    ['中关村', '北京大学', '颐和园']\n",
       "Name: address, dtype: object"
      ]
     },
     "execution_count": 14,
     "metadata": {},
     "output_type": "execute_result"
    }
   ],
   "source": [
    "data['address'] = data['address'].fillna(\"['未知']\")\n",
    "data['address'][:5]"
   ]
  },
  {
   "cell_type": "code",
   "execution_count": 15,
   "metadata": {},
   "outputs": [
    {
     "data": {
      "text/plain": [
       "0    '科华北路', '桂溪', '四川大学'\n",
       "1                    '未知'\n",
       "2     '中关村', '万泉河', '苏州街'\n",
       "3              '琶洲', '官洲'\n",
       "4    '中关村', '北京大学', '颐和园'\n",
       "Name: address, dtype: object"
      ]
     },
     "execution_count": 15,
     "metadata": {},
     "output_type": "execute_result"
    }
   ],
   "source": [
    "for i, j in enumerate(data['address']):\n",
    "    j = j.replace('[', '').replace(']', '')\n",
    "    data['address'][i] = j\n",
    "    \n",
    "data['address'][:5]"
   ]
  },
  {
   "cell_type": "code",
   "execution_count": 16,
   "metadata": {},
   "outputs": [
    {
     "data": {
      "text/plain": [
       "0                         \n",
       "1              '大数据', '商业'\n",
       "2                         \n",
       "3    '移动互联网', '社交', '数据运营'\n",
       "4            '大数据', 'SPSS'\n",
       "5            '大数据', '数据挖掘'\n",
       "6            '大数据', '数据挖掘'\n",
       "7            '大数据', '数据挖掘'\n",
       "8                     '金融'\n",
       "9                         \n",
       "Name: industryLables, dtype: object"
      ]
     },
     "execution_count": 16,
     "metadata": {},
     "output_type": "execute_result"
    }
   ],
   "source": [
    "for i, j in enumerate(data['industryLables']):\n",
    "    j = j.replace('[', '').replace(']', '')\n",
    "    data['industryLables'][i] = j\n",
    "    \n",
    "data['industryLables'][:10]"
   ]
  },
  {
   "cell_type": "code",
   "execution_count": 17,
   "metadata": {},
   "outputs": [
    {
     "data": {
      "text/plain": [
       "0      '年底双薪', '绩效奖金', '岗位晋升', '定期体检'\n",
       "1      '股票期权', '带薪年假', '绩效奖金', '扁平管理'\n",
       "2      '年底多薪', '岗位晋升', '定期体检', '五险一金'\n",
       "3    '六险一金', '周末双休', '营养工作餐', '暖心下午茶'\n",
       "4      '绩效奖金', '五险一金', '交通补助', '带薪年假'\n",
       "5      '专项奖金', '带薪年假', '弹性工作', '管理规范'\n",
       "6        '丰厚年终', '扁平管理', '追求极致', '本分'\n",
       "7      '弹性工作', '五险一金', '年度旅游', '年底双薪'\n",
       "8      '创新开放', '团队牛X', '全员期权', '高速成长'\n",
       "9      '绩效奖金', '交通补助', '午餐补助', '定期体检'\n",
       "Name: label, dtype: object"
      ]
     },
     "execution_count": 17,
     "metadata": {},
     "output_type": "execute_result"
    }
   ],
   "source": [
    "for i, j in enumerate(data['label']):\n",
    "    j = j.replace('[', '').replace(']', '')\n",
    "    data['label'][i] = j\n",
    "    \n",
    "data['label'][:10]"
   ]
  },
  {
   "cell_type": "code",
   "execution_count": 18,
   "metadata": {},
   "outputs": [
    {
     "data": {
      "text/plain": [
       "'职位描述：工作职责：?1、负责新零售业务的数据分析工作，挖掘数据分析需求，制定并实施分析方案，并根据数据分析结果为业务的改进提出合理化建议；?2、通过专题分析，对业务问题进行深入分析，为产品改进、运营决策、营销推广策略提供数据支持，推动业务部门数据驱动业务决策的转化3、通过对公司运营数据研究，提出改善运营质量的方法和建议，搭建BI数据分析体系，为公司决策提供支持。任职资格：?1、统计、数学、信息技术相关专业本科以上学历，互联网2年以上数据分析/挖掘相关经验；2、熟练独立编写商业数据分析报告，及时发现和分析其中隐含的变化和问题；?3、良好的数据敏感度，能从海量数据提炼核心结果；有丰富的数据分析、挖掘、清洗和建模的经验；?4、思维敏捷，具有发散性，能够举一反三，良好的逻辑分析能力及问题解决能力5、良好的跨团队、部门沟通及推动能力，有强烈的主人翁意识，积极发扬团队合作精神6、 熟练掌握SQL7、熟悉或使用过至少一种统计分析/数据挖掘软件（R,?Python等）者优先8、有大数据处理经验，如Hive/Spark/Hadoop等使用经验者优先'"
      ]
     },
     "execution_count": 18,
     "metadata": {},
     "output_type": "execute_result"
    }
   ],
   "source": [
    "data['position_detail'][0].replace('\\r', '')"
   ]
  },
  {
   "cell_type": "code",
   "execution_count": 19,
   "metadata": {},
   "outputs": [],
   "source": [
    "data['position_detail'] = data['position_detail'].fillna('未知')"
   ]
  },
  {
   "cell_type": "code",
   "execution_count": 20,
   "metadata": {},
   "outputs": [
    {
     "data": {
      "text/plain": [
       "0    职位描述：工作职责：?1、负责新零售业务的数据分析工作，挖掘数据分析需求，制定并实施分析方案...\n",
       "1    职位描述：工作职责:方向一、经营分析/指标体系1. 参与公司核心策略的数据分析，基于策略逻辑...\n",
       "2    职位描述：职位描述：1、收集、处理用户海量数据，挖掘用户行为特征，为产品、运营提供参考依据；...\n",
       "Name: position_detail, dtype: object"
      ]
     },
     "execution_count": 20,
     "metadata": {},
     "output_type": "execute_result"
    }
   ],
   "source": [
    "for i, j in enumerate(data['position_detail']):\n",
    "    j = j.replace('\\r', '')\n",
    "    data['position_detail'][i] = j\n",
    "    \n",
    "data['position_detail'][:3]"
   ]
  },
  {
   "cell_type": "code",
   "execution_count": 21,
   "metadata": {},
   "outputs": [
    {
     "data": {
      "text/html": [
       "<div>\n",
       "<style scoped>\n",
       "    .dataframe tbody tr th:only-of-type {\n",
       "        vertical-align: middle;\n",
       "    }\n",
       "\n",
       "    .dataframe tbody tr th {\n",
       "        vertical-align: top;\n",
       "    }\n",
       "\n",
       "    .dataframe thead th {\n",
       "        text-align: right;\n",
       "    }\n",
       "</style>\n",
       "<table border=\"1\" class=\"dataframe\">\n",
       "  <thead>\n",
       "    <tr style=\"text-align: right;\">\n",
       "      <th></th>\n",
       "      <th>address</th>\n",
       "      <th>advantage</th>\n",
       "      <th>city</th>\n",
       "      <th>company_name</th>\n",
       "      <th>education</th>\n",
       "      <th>industry</th>\n",
       "      <th>industryLables</th>\n",
       "      <th>label</th>\n",
       "      <th>position_detail</th>\n",
       "      <th>position_name</th>\n",
       "      <th>salary</th>\n",
       "      <th>size</th>\n",
       "      <th>stage</th>\n",
       "      <th>work_year</th>\n",
       "    </tr>\n",
       "  </thead>\n",
       "  <tbody>\n",
       "    <tr>\n",
       "      <th>0</th>\n",
       "      <td>'科华北路', '桂溪', '四川大学'</td>\n",
       "      <td>工作氛围好</td>\n",
       "      <td>成都</td>\n",
       "      <td>达疆网络科技（上海）有限公司</td>\n",
       "      <td>本科</td>\n",
       "      <td>O2O</td>\n",
       "      <td></td>\n",
       "      <td>'年底双薪', '绩效奖金', '岗位晋升', '定期体检'</td>\n",
       "      <td>职位描述：工作职责：?1、负责新零售业务的数据分析工作，挖掘数据分析需求，制定并实施分析方案...</td>\n",
       "      <td>数据分析师</td>\n",
       "      <td>10k-20k</td>\n",
       "      <td>2000人以上</td>\n",
       "      <td>D轮及以上</td>\n",
       "      <td>1-3年</td>\n",
       "    </tr>\n",
       "    <tr>\n",
       "      <th>1</th>\n",
       "      <td>'未知'</td>\n",
       "      <td>六险二金,晋升通道,独当一面,话语权</td>\n",
       "      <td>北京</td>\n",
       "      <td>贝壳找房（北京）科技有限公司</td>\n",
       "      <td>本科</td>\n",
       "      <td>移动互联网,O2O</td>\n",
       "      <td>'大数据', '商业'</td>\n",
       "      <td>'股票期权', '带薪年假', '绩效奖金', '扁平管理'</td>\n",
       "      <td>职位描述：工作职责:方向一、经营分析/指标体系1. 参与公司核心策略的数据分析，基于策略逻辑...</td>\n",
       "      <td>数据分析类</td>\n",
       "      <td>25k-40k</td>\n",
       "      <td>2000人以上</td>\n",
       "      <td>C轮</td>\n",
       "      <td>5-10年</td>\n",
       "    </tr>\n",
       "    <tr>\n",
       "      <th>2</th>\n",
       "      <td>'中关村', '万泉河', '苏州街'</td>\n",
       "      <td>五险一金</td>\n",
       "      <td>北京</td>\n",
       "      <td>杭州财米科技有限公司</td>\n",
       "      <td>不限</td>\n",
       "      <td>移动互联网,金融</td>\n",
       "      <td></td>\n",
       "      <td>'年底多薪', '岗位晋升', '定期体检', '五险一金'</td>\n",
       "      <td>职位描述：职位描述：1、收集、处理用户海量数据，挖掘用户行为特征，为产品、运营提供参考依据；...</td>\n",
       "      <td>数据分析师 (MJ000766)</td>\n",
       "      <td>10k-15k</td>\n",
       "      <td>500-2000人</td>\n",
       "      <td>C轮</td>\n",
       "      <td>1-3年</td>\n",
       "    </tr>\n",
       "  </tbody>\n",
       "</table>\n",
       "</div>"
      ],
      "text/plain": [
       "                address           advantage city    company_name education  \\\n",
       "0  '科华北路', '桂溪', '四川大学'               工作氛围好   成都  达疆网络科技（上海）有限公司        本科   \n",
       "1                  '未知'  六险二金,晋升通道,独当一面,话语权   北京  贝壳找房（北京）科技有限公司        本科   \n",
       "2   '中关村', '万泉河', '苏州街'                五险一金   北京      杭州财米科技有限公司        不限   \n",
       "\n",
       "    industry industryLables                           label  \\\n",
       "0        O2O                 '年底双薪', '绩效奖金', '岗位晋升', '定期体检'   \n",
       "1  移动互联网,O2O    '大数据', '商业'  '股票期权', '带薪年假', '绩效奖金', '扁平管理'   \n",
       "2   移动互联网,金融                 '年底多薪', '岗位晋升', '定期体检', '五险一金'   \n",
       "\n",
       "                                     position_detail     position_name  \\\n",
       "0  职位描述：工作职责：?1、负责新零售业务的数据分析工作，挖掘数据分析需求，制定并实施分析方案...             数据分析师   \n",
       "1  职位描述：工作职责:方向一、经营分析/指标体系1. 参与公司核心策略的数据分析，基于策略逻辑...             数据分析类   \n",
       "2  职位描述：职位描述：1、收集、处理用户海量数据，挖掘用户行为特征，为产品、运营提供参考依据；...  数据分析师 (MJ000766)   \n",
       "\n",
       "    salary       size  stage work_year  \n",
       "0  10k-20k    2000人以上  D轮及以上      1-3年  \n",
       "1  25k-40k    2000人以上     C轮     5-10年  \n",
       "2  10k-15k  500-2000人     C轮      1-3年  "
      ]
     },
     "execution_count": 21,
     "metadata": {},
     "output_type": "execute_result"
    }
   ],
   "source": [
    "data.head(3)"
   ]
  },
  {
   "cell_type": "code",
   "execution_count": null,
   "metadata": {},
   "outputs": [],
   "source": [
    "import string\n",
    "for i in data['salary'][:10]:\n",
    "    i = i.replace('k', '')\n",
    "    i1 = int(i.split('-')[0])\n",
    "    i2 = int(i.split('-')[1])\n",
    "    i3 = 1/2 * (i1+i2)\n",
    "    print(i3)"
   ]
  },
  {
   "cell_type": "code",
   "execution_count": 23,
   "metadata": {},
   "outputs": [
    {
     "data": {
      "text/plain": [
       "'10k-20k'"
      ]
     },
     "execution_count": 23,
     "metadata": {},
     "output_type": "execute_result"
    }
   ],
   "source": [
    "data['salary'][0]"
   ]
  },
  {
   "cell_type": "code",
   "execution_count": 24,
   "metadata": {},
   "outputs": [
    {
     "data": {
      "text/plain": [
       "0    15000\n",
       "1    32000\n",
       "2    12000\n",
       "Name: salary, dtype: object"
      ]
     },
     "execution_count": 24,
     "metadata": {},
     "output_type": "execute_result"
    }
   ],
   "source": [
    "for i, j in enumerate(data['salary']):\n",
    "    j = j.replace('k', '').replace('K', '').replace('以上', '-0')\n",
    "    j1 = int(j.split('-')[0])\n",
    "    j2 = int(j.split('-')[1])\n",
    "    j3 = int(1/2 * (j1+j2))\n",
    "    data['salary'][i] = j3*1000\n",
    "    \n",
    "data['salary'].head(3)   "
   ]
  },
  {
   "cell_type": "code",
   "execution_count": 25,
   "metadata": {},
   "outputs": [
    {
     "data": {
      "text/plain": [
       "2000人以上      573\n",
       "500-2000人    324\n",
       "150-500人     314\n",
       "50-150人      269\n",
       "15-50人       156\n",
       "少于15人         14\n",
       "Name: size, dtype: int64"
      ]
     },
     "execution_count": 25,
     "metadata": {},
     "output_type": "execute_result"
    }
   ],
   "source": [
    "data['size'].value_counts()"
   ]
  },
  {
   "cell_type": "code",
   "execution_count": 26,
   "metadata": {},
   "outputs": [
    {
     "data": {
      "text/plain": [
       "上市公司     337\n",
       "不需要融资    293\n",
       "B轮       240\n",
       "A轮       239\n",
       "C轮       216\n",
       "D轮及以上    192\n",
       "天使轮       69\n",
       "未融资       64\n",
       "Name: stage, dtype: int64"
      ]
     },
     "execution_count": 26,
     "metadata": {},
     "output_type": "execute_result"
    }
   ],
   "source": [
    "data['stage'].value_counts()"
   ]
  },
  {
   "cell_type": "code",
   "execution_count": 27,
   "metadata": {},
   "outputs": [
    {
     "data": {
      "text/plain": [
       "3-5年     730\n",
       "1-3年     465\n",
       "不限       221\n",
       "5-10年    136\n",
       "应届毕业生     80\n",
       "1年以下      16\n",
       "10年以上      2\n",
       "Name: work_year, dtype: int64"
      ]
     },
     "execution_count": 27,
     "metadata": {},
     "output_type": "execute_result"
    }
   ],
   "source": [
    "data['work_year'].value_counts()"
   ]
  },
  {
   "cell_type": "code",
   "execution_count": 28,
   "metadata": {},
   "outputs": [
    {
     "data": {
      "text/plain": [
       "0    数据分析师\n",
       "1    数据分析师\n",
       "2    数据分析师\n",
       "3    数据分析师\n",
       "4    数据分析师\n",
       "Name: position_name, dtype: object"
      ]
     },
     "execution_count": 28,
     "metadata": {},
     "output_type": "execute_result"
    }
   ],
   "source": [
    "for i, j in enumerate(data['position_name']):\n",
    "    if '数据分析' in j:\n",
    "        j = '数据分析师'\n",
    "    if '数据挖掘' in j:\n",
    "        j = '数据挖掘工程师'\n",
    "    if '机器学习' in j:\n",
    "        j = '机器学习工程师'\n",
    "    if '深度学习' in j:\n",
    "        j = '深度学习工程师'\n",
    "    data['position_name'][i] = j\n",
    "data['position_name'][:5]"
   ]
  },
  {
   "cell_type": "code",
   "execution_count": 29,
   "metadata": {},
   "outputs": [
    {
     "data": {
      "text/html": [
       "<div>\n",
       "<style scoped>\n",
       "    .dataframe tbody tr th:only-of-type {\n",
       "        vertical-align: middle;\n",
       "    }\n",
       "\n",
       "    .dataframe tbody tr th {\n",
       "        vertical-align: top;\n",
       "    }\n",
       "\n",
       "    .dataframe thead th {\n",
       "        text-align: right;\n",
       "    }\n",
       "</style>\n",
       "<table border=\"1\" class=\"dataframe\">\n",
       "  <thead>\n",
       "    <tr style=\"text-align: right;\">\n",
       "      <th></th>\n",
       "      <th>address</th>\n",
       "      <th>advantage</th>\n",
       "      <th>city</th>\n",
       "      <th>company_name</th>\n",
       "      <th>education</th>\n",
       "      <th>industry</th>\n",
       "      <th>industryLables</th>\n",
       "      <th>label</th>\n",
       "      <th>position_detail</th>\n",
       "      <th>position_name</th>\n",
       "      <th>salary</th>\n",
       "      <th>size</th>\n",
       "      <th>stage</th>\n",
       "      <th>work_year</th>\n",
       "    </tr>\n",
       "  </thead>\n",
       "  <tbody>\n",
       "    <tr>\n",
       "      <th>0</th>\n",
       "      <td>'科华北路', '桂溪', '四川大学'</td>\n",
       "      <td>工作氛围好</td>\n",
       "      <td>成都</td>\n",
       "      <td>达疆网络科技（上海）有限公司</td>\n",
       "      <td>本科</td>\n",
       "      <td>O2O</td>\n",
       "      <td></td>\n",
       "      <td>'年底双薪', '绩效奖金', '岗位晋升', '定期体检'</td>\n",
       "      <td>职位描述：工作职责：?1、负责新零售业务的数据分析工作，挖掘数据分析需求，制定并实施分析方案...</td>\n",
       "      <td>数据分析师</td>\n",
       "      <td>15000</td>\n",
       "      <td>2000人以上</td>\n",
       "      <td>D轮及以上</td>\n",
       "      <td>1-3年</td>\n",
       "    </tr>\n",
       "    <tr>\n",
       "      <th>1</th>\n",
       "      <td>'未知'</td>\n",
       "      <td>六险二金,晋升通道,独当一面,话语权</td>\n",
       "      <td>北京</td>\n",
       "      <td>贝壳找房（北京）科技有限公司</td>\n",
       "      <td>本科</td>\n",
       "      <td>移动互联网,O2O</td>\n",
       "      <td>'大数据', '商业'</td>\n",
       "      <td>'股票期权', '带薪年假', '绩效奖金', '扁平管理'</td>\n",
       "      <td>职位描述：工作职责:方向一、经营分析/指标体系1. 参与公司核心策略的数据分析，基于策略逻辑...</td>\n",
       "      <td>数据分析师</td>\n",
       "      <td>32000</td>\n",
       "      <td>2000人以上</td>\n",
       "      <td>C轮</td>\n",
       "      <td>5-10年</td>\n",
       "    </tr>\n",
       "    <tr>\n",
       "      <th>2</th>\n",
       "      <td>'中关村', '万泉河', '苏州街'</td>\n",
       "      <td>五险一金</td>\n",
       "      <td>北京</td>\n",
       "      <td>杭州财米科技有限公司</td>\n",
       "      <td>不限</td>\n",
       "      <td>移动互联网,金融</td>\n",
       "      <td></td>\n",
       "      <td>'年底多薪', '岗位晋升', '定期体检', '五险一金'</td>\n",
       "      <td>职位描述：职位描述：1、收集、处理用户海量数据，挖掘用户行为特征，为产品、运营提供参考依据；...</td>\n",
       "      <td>数据分析师</td>\n",
       "      <td>12000</td>\n",
       "      <td>500-2000人</td>\n",
       "      <td>C轮</td>\n",
       "      <td>1-3年</td>\n",
       "    </tr>\n",
       "  </tbody>\n",
       "</table>\n",
       "</div>"
      ],
      "text/plain": [
       "                address           advantage city    company_name education  \\\n",
       "0  '科华北路', '桂溪', '四川大学'               工作氛围好   成都  达疆网络科技（上海）有限公司        本科   \n",
       "1                  '未知'  六险二金,晋升通道,独当一面,话语权   北京  贝壳找房（北京）科技有限公司        本科   \n",
       "2   '中关村', '万泉河', '苏州街'                五险一金   北京      杭州财米科技有限公司        不限   \n",
       "\n",
       "    industry industryLables                           label  \\\n",
       "0        O2O                 '年底双薪', '绩效奖金', '岗位晋升', '定期体检'   \n",
       "1  移动互联网,O2O    '大数据', '商业'  '股票期权', '带薪年假', '绩效奖金', '扁平管理'   \n",
       "2   移动互联网,金融                 '年底多薪', '岗位晋升', '定期体检', '五险一金'   \n",
       "\n",
       "                                     position_detail position_name salary  \\\n",
       "0  职位描述：工作职责：?1、负责新零售业务的数据分析工作，挖掘数据分析需求，制定并实施分析方案...         数据分析师  15000   \n",
       "1  职位描述：工作职责:方向一、经营分析/指标体系1. 参与公司核心策略的数据分析，基于策略逻辑...         数据分析师  32000   \n",
       "2  职位描述：职位描述：1、收集、处理用户海量数据，挖掘用户行为特征，为产品、运营提供参考依据；...         数据分析师  12000   \n",
       "\n",
       "        size  stage work_year  \n",
       "0    2000人以上  D轮及以上      1-3年  \n",
       "1    2000人以上     C轮     5-10年  \n",
       "2  500-2000人     C轮      1-3年  "
      ]
     },
     "execution_count": 29,
     "metadata": {},
     "output_type": "execute_result"
    }
   ],
   "source": [
    "data.head(3)"
   ]
  },
  {
   "cell_type": "markdown",
   "metadata": {},
   "source": [
    "## 三、清洗过程模块化"
   ]
  },
  {
   "cell_type": "code",
   "execution_count": 30,
   "metadata": {},
   "outputs": [
    {
     "data": {
      "text/html": [
       "<div>\n",
       "<style scoped>\n",
       "    .dataframe tbody tr th:only-of-type {\n",
       "        vertical-align: middle;\n",
       "    }\n",
       "\n",
       "    .dataframe tbody tr th {\n",
       "        vertical-align: top;\n",
       "    }\n",
       "\n",
       "    .dataframe thead th {\n",
       "        text-align: right;\n",
       "    }\n",
       "</style>\n",
       "<table border=\"1\" class=\"dataframe\">\n",
       "  <thead>\n",
       "    <tr style=\"text-align: right;\">\n",
       "      <th></th>\n",
       "      <th>address</th>\n",
       "      <th>advantage</th>\n",
       "      <th>city</th>\n",
       "      <th>company_name</th>\n",
       "      <th>education</th>\n",
       "      <th>industry</th>\n",
       "      <th>industryLables</th>\n",
       "      <th>label</th>\n",
       "      <th>position_detail</th>\n",
       "      <th>position_name</th>\n",
       "      <th>salary</th>\n",
       "      <th>size</th>\n",
       "      <th>stage</th>\n",
       "      <th>work_year</th>\n",
       "    </tr>\n",
       "  </thead>\n",
       "  <tbody>\n",
       "    <tr>\n",
       "      <th>0</th>\n",
       "      <td>'科华北路', '桂溪', '四川大学'</td>\n",
       "      <td>工作氛围好</td>\n",
       "      <td>成都</td>\n",
       "      <td>达疆网络科技（上海）有限公司</td>\n",
       "      <td>本科</td>\n",
       "      <td>O2O</td>\n",
       "      <td></td>\n",
       "      <td>'年底双薪', '绩效奖金', '岗位晋升', '定期体检'</td>\n",
       "      <td>职位描述：工作职责：?1、负责新零售业务的数据分析工作，挖掘数据分析需求，制定并实施分析方案...</td>\n",
       "      <td>数据分析师</td>\n",
       "      <td>15000.0</td>\n",
       "      <td>2000人以上</td>\n",
       "      <td>D轮及以上</td>\n",
       "      <td>1-3年</td>\n",
       "    </tr>\n",
       "    <tr>\n",
       "      <th>1</th>\n",
       "      <td>'未知'</td>\n",
       "      <td>六险二金,晋升通道,独当一面,话语权</td>\n",
       "      <td>北京</td>\n",
       "      <td>贝壳找房（北京）科技有限公司</td>\n",
       "      <td>本科</td>\n",
       "      <td>移动互联网,O2O</td>\n",
       "      <td>'大数据', '商业'</td>\n",
       "      <td>'股票期权', '带薪年假', '绩效奖金', '扁平管理'</td>\n",
       "      <td>职位描述：工作职责:方向一、经营分析/指标体系1. 参与公司核心策略的数据分析，基于策略逻辑...</td>\n",
       "      <td>数据分析师</td>\n",
       "      <td>32500.0</td>\n",
       "      <td>2000人以上</td>\n",
       "      <td>C轮</td>\n",
       "      <td>5-10年</td>\n",
       "    </tr>\n",
       "    <tr>\n",
       "      <th>2</th>\n",
       "      <td>'中关村', '万泉河', '苏州街'</td>\n",
       "      <td>五险一金</td>\n",
       "      <td>北京</td>\n",
       "      <td>杭州财米科技有限公司</td>\n",
       "      <td>不限</td>\n",
       "      <td>移动互联网,金融</td>\n",
       "      <td></td>\n",
       "      <td>'年底多薪', '岗位晋升', '定期体检', '五险一金'</td>\n",
       "      <td>职位描述：职位描述：1、收集、处理用户海量数据，挖掘用户行为特征，为产品、运营提供参考依据；...</td>\n",
       "      <td>数据分析师</td>\n",
       "      <td>12500.0</td>\n",
       "      <td>500-2000人</td>\n",
       "      <td>C轮</td>\n",
       "      <td>1-3年</td>\n",
       "    </tr>\n",
       "  </tbody>\n",
       "</table>\n",
       "</div>"
      ],
      "text/plain": [
       "                address           advantage city    company_name education  \\\n",
       "0  '科华北路', '桂溪', '四川大学'               工作氛围好   成都  达疆网络科技（上海）有限公司        本科   \n",
       "1                  '未知'  六险二金,晋升通道,独当一面,话语权   北京  贝壳找房（北京）科技有限公司        本科   \n",
       "2   '中关村', '万泉河', '苏州街'                五险一金   北京      杭州财米科技有限公司        不限   \n",
       "\n",
       "    industry industryLables                           label  \\\n",
       "0        O2O                 '年底双薪', '绩效奖金', '岗位晋升', '定期体检'   \n",
       "1  移动互联网,O2O    '大数据', '商业'  '股票期权', '带薪年假', '绩效奖金', '扁平管理'   \n",
       "2   移动互联网,金融                 '年底多薪', '岗位晋升', '定期体检', '五险一金'   \n",
       "\n",
       "                                     position_detail position_name   salary  \\\n",
       "0  职位描述：工作职责：?1、负责新零售业务的数据分析工作，挖掘数据分析需求，制定并实施分析方案...         数据分析师  15000.0   \n",
       "1  职位描述：工作职责:方向一、经营分析/指标体系1. 参与公司核心策略的数据分析，基于策略逻辑...         数据分析师  32500.0   \n",
       "2  职位描述：职位描述：1、收集、处理用户海量数据，挖掘用户行为特征，为产品、运营提供参考依据；...         数据分析师  12500.0   \n",
       "\n",
       "        size  stage work_year  \n",
       "0    2000人以上  D轮及以上      1-3年  \n",
       "1    2000人以上     C轮     5-10年  \n",
       "2  500-2000人     C轮      1-3年  "
      ]
     },
     "execution_count": 30,
     "metadata": {},
     "output_type": "execute_result"
    }
   ],
   "source": [
    "import numpy as np\n",
    "import pandas as pd\n",
    "import string\n",
    "import warnings\n",
    "warnings.filterwarnings('ignore')\n",
    "\n",
    "class data_clean(object):\n",
    "    def __init__(self):\n",
    "        pass\n",
    "    \n",
    "    def get_data(self):\n",
    "        data1 = pd.read_csv('./data_analysis.csv', encoding='utf-8', index_col=0)\n",
    "        data2 = pd.read_csv('./machine_learning.csv', encoding='utf-8', index_col=0)\n",
    "        data3 = pd.read_csv('./data_mining.csv', encoding='utf-8', index_col=0)\n",
    "        data4 = pd.read_csv('./deep_learning.csv', encoding='utf-8', index_col=0)\n",
    "\n",
    "        data = pd.concat((pd.concat((pd.concat((data1, data2)), data3)), data4)).reset_index(drop=True)\n",
    "        return data\n",
    "\n",
    "    def clean_operation(self):\n",
    "        data = self.get_data()\n",
    "        data['address'] = data['address'].fillna(\"['未知']\")\n",
    "        for i, j in enumerate(data['address']):\n",
    "            j = j.replace('[', '').replace(']', '')\n",
    "            data['address'][i] = j\n",
    "            \n",
    "        for i, j in enumerate(data['salary']):\n",
    "            j = j.replace('k', '').replace('K', '').replace('以上', '-0')\n",
    "            j1 = int(j.split('-')[0])\n",
    "            j2 = int(j.split('-')[1])\n",
    "            j3 = 1/2 * (j1+j2)\n",
    "            data['salary'][i] = j3*1000\n",
    "            \n",
    "        for i, j in enumerate(data['industryLables']):\n",
    "            j = j.replace('[', '').replace(']', '')\n",
    "            data['industryLables'][i] = j\n",
    "            \n",
    "        for i, j in enumerate(data['label']):\n",
    "            j = j.replace('[', '').replace(']', '')\n",
    "            data['label'][i] = j\n",
    "         \n",
    "        data['position_detail'] = data['position_detail'].fillna('未知')\n",
    "        for i, j in enumerate(data['position_detail']):\n",
    "            j = j.replace('\\r', '')\n",
    "            data['position_detail'][i] = j\n",
    "            \n",
    "            \n",
    "        for i, j in enumerate(data['position_name']):\n",
    "            if '数据分析' in j:\n",
    "                j = '数据分析师'\n",
    "            if '数据挖掘' in j:\n",
    "                j = '数据挖掘工程师'\n",
    "            if '机器学习' in j:\n",
    "                j = '机器学习工程师'\n",
    "            if '深度学习' in j:\n",
    "                j = '深度学习工程师'\n",
    "            data['position_name'][i] = j\n",
    "\n",
    "        return data\n",
    "    \n",
    "    \n",
    "opt = data_clean()\n",
    "data = opt.clean_operation()\n",
    "data.head(3)"
   ]
  },
  {
   "cell_type": "code",
   "execution_count": 31,
   "metadata": {},
   "outputs": [],
   "source": [
    "data.to_csv('./lagou_preprocessed.csv', encoding='utf-8')"
   ]
  }
 ],
 "metadata": {
  "kernelspec": {
   "display_name": "Python 3",
   "language": "python",
   "name": "python3"
  },
  "language_info": {
   "codemirror_mode": {
    "name": "ipython",
    "version": 3
   },
   "file_extension": ".py",
   "mimetype": "text/x-python",
   "name": "python",
   "nbconvert_exporter": "python",
   "pygments_lexer": "ipython3",
   "version": "3.8.3"
  }
 },
 "nbformat": 4,
 "nbformat_minor": 4
}
