{
 "cells": [
  {
   "cell_type": "markdown",
   "id": "75eefd9e-35af-400a-90c1-39221a2aad5a",
   "metadata": {},
   "source": [
    "## 1.距离度量\n",
    "在机器学习算法中，我们经常需要计算样本之间的相似度，通常的做法是计算样本之间的距离。\n",
    "\n",
    "设$x$和$y$为两个向量，求它们之间的距离。\n",
    "\n",
    "这里用Numpy实现，设和为`ndarray <numpy.ndarray>`，它们的shape都是`(N,)`\n",
    "\n",
    "$d$为所求的距离，是个浮点数（`float`）。"
   ]
  },
  {
   "cell_type": "code",
   "execution_count": 3,
   "id": "3a642ef8-26f0-43db-8aae-5dc4bb6b8307",
   "metadata": {},
   "outputs": [],
   "source": [
    "import numpy as np  #注意：运行代码时候需要导入NumPy库。"
   ]
  },
  {
   "cell_type": "markdown",
   "id": "05a0a07e-b019-4434-b474-03ee0b0f25dc",
   "metadata": {},
   "source": [
    "### 欧氏距离(Euclidean distance)\n",
    "\n",
    "欧几里得度量(euclidean metric)(也称欧氏距离)是一个通常采用的距离定义，指在$m$维空间中两个点之间的真实距离，或者向量的自然长度(即该点到原点的距离)。在二维和三维空间中的欧氏距离就是两点之间的实际距离。\n",
    "\n",
    "距离公式：\n",
    "\n",
    "$$\n",
    "d\\left( x,y \\right) = \\sqrt{\\sum_{i}^{}(x_{i} - y_{i})^{2}}\n",
    "$$"
   ]
  },
  {
   "cell_type": "code",
   "execution_count": 10,
   "id": "f375ece0-0a39-4d38-9da4-5dea0443cd23",
   "metadata": {},
   "outputs": [],
   "source": [
    "def euclidean(x, y):\n",
    "\n",
    "    return np.sqrt(np.sum((x - y)**2))"
   ]
  },
  {
   "cell_type": "code",
   "execution_count": 9,
   "id": "688ebc24-5b8e-497c-b9fd-877dc24277e5",
   "metadata": {},
   "outputs": [
    {
     "data": {
      "text/plain": [
       "3.872983346207417"
      ]
     },
     "execution_count": 9,
     "metadata": {},
     "output_type": "execute_result"
    }
   ],
   "source": [
    "x = np.asarray([1,3,2,4])\n",
    "y = np.asarray([2,5,3,1])\n",
    "euclidean(x,y)"
   ]
  },
  {
   "cell_type": "code",
   "execution_count": 13,
   "id": "97dd585f-f6d1-48d5-8f5c-b26581cafc0e",
   "metadata": {},
   "outputs": [],
   "source": [
    "def manhattan(x, y):\n",
    "\n",
    "    return np.sum(np.abs(x - y))"
   ]
  },
  {
   "cell_type": "code",
   "execution_count": 14,
   "id": "66ab500a-18d7-49c5-b7d4-2fb8be9fb82c",
   "metadata": {},
   "outputs": [
    {
     "data": {
      "text/plain": [
       "7"
      ]
     },
     "execution_count": 14,
     "metadata": {},
     "output_type": "execute_result"
    }
   ],
   "source": [
    "x = np.asarray([1,3,2,4])\n",
    "y = np.asarray([2,5,3,1])\n",
    "manhattan(x,y)"
   ]
  },
  {
   "cell_type": "code",
   "execution_count": 15,
   "id": "c5d753eb-ed93-420a-a34a-94e46ea10b9b",
   "metadata": {},
   "outputs": [],
   "source": [
    "def chebyshev(x, y):\n",
    "\n",
    "    return np.max(np.abs(x - y))"
   ]
  },
  {
   "cell_type": "code",
   "execution_count": 17,
   "id": "8fe4061b-b43a-4a82-9446-67de943a9102",
   "metadata": {},
   "outputs": [
    {
     "data": {
      "text/plain": [
       "3"
      ]
     },
     "execution_count": 17,
     "metadata": {},
     "output_type": "execute_result"
    }
   ],
   "source": [
    "x = np.asarray([1,3,2,4])\n",
    "y = np.asarray([2,5,3,1])\n",
    "chebyshev(x,y)"
   ]
  },
  {
   "cell_type": "code",
   "execution_count": 21,
   "id": "e6fe705d-3266-487a-bf14-5d67c1241877",
   "metadata": {},
   "outputs": [],
   "source": [
    "def minkowski(x, y, p):\n",
    "\n",
    "    return np.sum(np.abs(x - y)**p)**(1 / p)"
   ]
  },
  {
   "cell_type": "code",
   "execution_count": 20,
   "id": "9aeaa47f-7724-4f07-84dc-29d1099dd827",
   "metadata": {},
   "outputs": [
    {
     "data": {
      "text/plain": [
       "7.0"
      ]
     },
     "execution_count": 20,
     "metadata": {},
     "output_type": "execute_result"
    }
   ],
   "source": [
    "x = np.asarray([1,3,2,4])\n",
    "y = np.asarray([2,5,3,1])\n",
    "minkowski(x,y,p=1)"
   ]
  },
  {
   "cell_type": "code",
   "execution_count": 27,
   "id": "cb4f1133-181a-471e-a7e6-0f5bcafd9979",
   "metadata": {},
   "outputs": [],
   "source": [
    "def cosine_dis(x, y):\n",
    "    num = sum(map(float, x * y))\n",
    "    denom = np.linalg.norm(x) * np.linalg.norm(y)\n",
    "    return round(num / float(denom), 3)"
   ]
  },
  {
   "cell_type": "code",
   "execution_count": 28,
   "id": "45078695-635b-425d-957b-181aa08d029c",
   "metadata": {},
   "outputs": [
    {
     "data": {
      "text/plain": [
       "0.789"
      ]
     },
     "execution_count": 28,
     "metadata": {},
     "output_type": "execute_result"
    }
   ],
   "source": [
    "x = np.asarray([1,3,2,4])\n",
    "y = np.asarray([2,5,3,1])\n",
    "cosine_dis(x,y)"
   ]
  },
  {
   "cell_type": "code",
   "execution_count": null,
   "id": "f2a12d10-238b-4293-a27a-7c23214a7344",
   "metadata": {},
   "outputs": [],
   "source": []
  }
 ],
 "metadata": {
  "kernelspec": {
   "display_name": "Python 3",
   "language": "python",
   "name": "python3"
  },
  "language_info": {
   "codemirror_mode": {
    "name": "ipython",
    "version": 3
   },
   "file_extension": ".py",
   "mimetype": "text/x-python",
   "name": "python",
   "nbconvert_exporter": "python",
   "pygments_lexer": "ipython3",
   "version": "3.8.3"
  }
 },
 "nbformat": 4,
 "nbformat_minor": 5
}
