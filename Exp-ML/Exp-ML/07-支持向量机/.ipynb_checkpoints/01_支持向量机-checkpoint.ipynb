{
 "cells": [
  {
   "cell_type": "markdown",
   "id": "5beab336-7087-4037-b64d-78db12e54375",
   "metadata": {},
   "source": [
    "# 支持向量机 \n",
    "\n",
    "此代码参考 阿里天池：https://tianchi.aliyun.com/notebook/192338  推荐自学 "
   ]
  },
  {
   "cell_type": "code",
   "execution_count": null,
   "id": "8d503724-dfd2-4d8a-91b0-0104d09ab9f9",
   "metadata": {},
   "outputs": [],
   "source": []
  }
 ],
 "metadata": {
  "kernelspec": {
   "display_name": "Python 3",
   "language": "python",
   "name": "python3"
  },
  "language_info": {
   "codemirror_mode": {
    "name": "ipython",
    "version": 3
   },
   "file_extension": ".py",
   "mimetype": "text/x-python",
   "name": "python",
   "nbconvert_exporter": "python",
   "pygments_lexer": "ipython3",
   "version": "3.8.3"
  }
 },
 "nbformat": 4,
 "nbformat_minor": 5
}
