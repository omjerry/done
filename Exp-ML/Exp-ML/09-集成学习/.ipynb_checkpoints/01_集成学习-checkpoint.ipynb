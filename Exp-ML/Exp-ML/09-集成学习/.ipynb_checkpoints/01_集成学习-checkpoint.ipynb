{
 "cells": [
  {
   "cell_type": "markdown",
   "id": "d0b3df20-e345-4fdd-a45b-0256a819bc56",
   "metadata": {},
   "source": [
    "# 集成学习\n",
    "\n",
    "本节代码参考: **黄海广-机器学习** https://github.com/fengdu78/WZU-machine-learning-course 推荐自学 "
   ]
  },
  {
   "cell_type": "code",
   "execution_count": null,
   "id": "5d7e043b-ace2-470f-9aac-b885b5d01f42",
   "metadata": {},
   "outputs": [],
   "source": []
  }
 ],
 "metadata": {
  "kernelspec": {
   "display_name": "Python 3",
   "language": "python",
   "name": "python3"
  },
  "language_info": {
   "codemirror_mode": {
    "name": "ipython",
    "version": 3
   },
   "file_extension": ".py",
   "mimetype": "text/x-python",
   "name": "python",
   "nbconvert_exporter": "python",
   "pygments_lexer": "ipython3",
   "version": "3.8.3"
  }
 },
 "nbformat": 4,
 "nbformat_minor": 5
}
