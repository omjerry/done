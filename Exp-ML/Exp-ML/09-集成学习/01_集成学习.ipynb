{
 "cells": [
  {
   "cell_type": "markdown",
   "id": "d0b3df20-e345-4fdd-a45b-0256a819bc56",
   "metadata": {},
   "source": [
    "# 集成学习\n",
    "\n",
    "本节代码参考: **黄海广-机器学习** https://github.com/fengdu78/WZU-machine-learning-course 推荐自学 \n",
    "\n",
    "## 1 集成模型比对 \n",
    "\n",
    "### 1.1 生成数据 \n",
    "\n",
    "\n",
    "生成Hastie等人使用的二进制分类数据。\n",
    "\n",
    "十个特征是标准独立的高斯。 "
   ]
  },
  {
   "cell_type": "code",
   "execution_count": 1,
   "id": "5d7e043b-ace2-470f-9aac-b885b5d01f42",
   "metadata": {},
   "outputs": [],
   "source": [
    "import warnings\n",
    "warnings.filterwarnings(\"ignore\")\n",
    "import pandas as pd\n",
    "from sklearn.model_selection import train_test_split  "
   ]
  },
  {
   "cell_type": "code",
   "execution_count": null,
   "id": "ccf6c264-7090-4d8e-bdf9-cc0b752fe3eb",
   "metadata": {},
   "outputs": [],
   "source": [
    "!python -m pip install lightgbm xgboost"
   ]
  },
  {
   "cell_type": "code",
   "execution_count": 5,
   "id": "dc3cef67-eb45-4472-be29-6e56f57a5d33",
   "metadata": {},
   "outputs": [],
   "source": [
    "from sklearn.datasets import make_hastie_10_2\n",
    "\n",
    "data, target = make_hastie_10_2()\n",
    "X_train, X_test, y_train, y_test = train_test_split(data, target, random_state=2023)"
   ]
  },
  {
   "cell_type": "code",
   "execution_count": 12,
   "id": "de97135f-279a-4a3f-9170-bdccfd53e590",
   "metadata": {},
   "outputs": [
    {
     "data": {
      "text/plain": [
       "((9000, 10), (3000, 10))"
      ]
     },
     "execution_count": 12,
     "metadata": {},
     "output_type": "execute_result"
    }
   ],
   "source": [
    "X_train.shape, X_test.shape"
   ]
  },
  {
   "cell_type": "markdown",
   "id": "630a57d7-51ca-4ce1-ab3b-cd64ea927939",
   "metadata": {},
   "source": [
    "## 1.2  模型对比\n",
    "对比六大模型，都使用默认参数。\n",
    "\n",
    "使用XGB训练中，出现处错误：Invalid classes inferred from unique values of `y`. Expected: [0 1], got ['0.0' '1.0'] \n",
    "\n",
    "参考[博客](https://blog.csdn.net/Ph315898/article/details/129006126)。"
   ]
  },
  {
   "cell_type": "code",
   "execution_count": 10,
   "id": "21119b1f-6a75-4d00-9b0f-c8048b070c6c",
   "metadata": {},
   "outputs": [],
   "source": [
    "from sklearn.preprocessing import LabelEncoder\n",
    "le = LabelEncoder()\n",
    "y_train = le.fit_transform(y_train)"
   ]
  },
  {
   "cell_type": "code",
   "execution_count": 11,
   "id": "95863161-76c5-46dd-88ad-d31f586158c7",
   "metadata": {},
   "outputs": [
    {
     "name": "stdout",
     "output_type": "stream",
     "text": [
      "Accuracy: 0.47177778 (+/- 0.01),耗时0.04秒。模型名称[Logistic Regression]\n",
      "Accuracy: 0.88800000 (+/- 0.01),耗时17.34秒。模型名称[Random Forest]\n",
      "Accuracy: 0.87077778 (+/- 0.00),耗时3.21秒。模型名称[AdaBoost]\n",
      "Accuracy: 0.91144444 (+/- 0.00),耗时14.74秒。模型名称[GBDT]\n",
      "Accuracy: 0.92455556 (+/- 0.00),耗时2.13秒。模型名称[XGBoost]\n",
      "Accuracy: 0.92900000 (+/- 0.00),耗时0.63秒。模型名称[LightGBM]\n"
     ]
    }
   ],
   "source": [
    "from sklearn.linear_model import LogisticRegression\n",
    "from sklearn.ensemble import RandomForestClassifier\n",
    "from sklearn.ensemble import AdaBoostClassifier\n",
    "from sklearn.ensemble import GradientBoostingClassifier\n",
    "from xgboost import XGBClassifier\n",
    "from lightgbm import LGBMClassifier\n",
    "from sklearn.model_selection import cross_val_score\n",
    "import time\n",
    "\n",
    "clf1 = LogisticRegression()\n",
    "clf2 = RandomForestClassifier()\n",
    "clf3 = AdaBoostClassifier()\n",
    "clf4 = GradientBoostingClassifier()\n",
    "clf5 = XGBClassifier()\n",
    "clf6 = LGBMClassifier()\n",
    "\n",
    "for clf, label in zip([clf1, clf2, clf3, clf4, clf5, clf6], [\n",
    "        'Logistic Regression', 'Random Forest', 'AdaBoost', 'GBDT', 'XGBoost',\n",
    "        'LightGBM'\n",
    "]):\n",
    "    start = time.time()\n",
    "    scores = cross_val_score(clf, X_train, y_train, scoring='accuracy', cv=5)\n",
    "    end = time.time()\n",
    "    running_time = end - start\n",
    "    print(\"Accuracy: %0.8f (+/- %0.2f),耗时%0.2f秒。模型名称[%s]\" %\n",
    "          (scores.mean(), scores.std(), running_time, label))"
   ]
  },
  {
   "cell_type": "markdown",
   "id": "8ed2b1a8-cd82-4e55-82e9-a184ea12935d",
   "metadata": {},
   "source": [
    "## 2 集成学习-鸢尾花数据集分类\n"
   ]
  },
  {
   "cell_type": "code",
   "execution_count": 17,
   "id": "e5081776-e27e-4bb9-bc3b-97321d13b875",
   "metadata": {},
   "outputs": [],
   "source": [
    "from sklearn.datasets import load_iris\n",
    "from sklearn.model_selection import train_test_split\n",
    "from sklearn.tree import DecisionTreeClassifier \n",
    "\n",
    "iris = load_iris()  # 加载鸢尾花数据集\n",
    "X = iris.data  # 样本特征\n",
    "y = iris.target  # 样本标签\n",
    "X = X[:,:2]  # 选择前两个特征\n",
    "X_train, X_test, y_train, y_test = train_test_split(X, y, test_size=0.3)"
   ]
  },
  {
   "cell_type": "code",
   "execution_count": 18,
   "id": "9542d7ed-afc5-4f52-928f-c9e399108667",
   "metadata": {},
   "outputs": [
    {
     "name": "stdout",
     "output_type": "stream",
     "text": [
      "Accuracy: 0.78095238 (+/- 0.07),耗时0.04秒。模型名称[Logistic Regression]\n",
      "Accuracy: 0.72380952 (+/- 0.04),耗时0.51秒。模型名称[Random Forest]\n",
      "Accuracy: 0.44761905 (+/- 0.05),耗时0.30秒。模型名称[AdaBoost]\n",
      "Accuracy: 0.69523810 (+/- 0.05),耗时0.78秒。模型名称[GBDT]\n",
      "Accuracy: 0.68571429 (+/- 0.04),耗时0.36秒。模型名称[XGBoost]\n",
      "Accuracy: 0.74285714 (+/- 0.04),耗时0.22秒。模型名称[LightGBM]\n"
     ]
    }
   ],
   "source": [
    "clf1 = LogisticRegression()\n",
    "clf2 = RandomForestClassifier()\n",
    "clf3 = AdaBoostClassifier()\n",
    "clf4 = GradientBoostingClassifier()\n",
    "clf5 = XGBClassifier()\n",
    "clf6 = LGBMClassifier()\n",
    "\n",
    "for clf, label in zip([clf1, clf2, clf3, clf4, clf5, clf6], [\n",
    "        'Logistic Regression', 'Random Forest', 'AdaBoost', 'GBDT', 'XGBoost',\n",
    "        'LightGBM'\n",
    "]):\n",
    "    start = time.time()\n",
    "    scores = cross_val_score(clf, X_train, y_train, scoring='accuracy', cv=5)\n",
    "    end = time.time()\n",
    "    running_time = end - start\n",
    "    print(\"Accuracy: %0.8f (+/- %0.2f),耗时%0.2f秒。模型名称[%s]\" %\n",
    "          (scores.mean(), scores.std(), running_time, label))"
   ]
  }
 ],
 "metadata": {
  "kernelspec": {
   "display_name": "Python 3",
   "language": "python",
   "name": "python3"
  },
  "language_info": {
   "codemirror_mode": {
    "name": "ipython",
    "version": 3
   },
   "file_extension": ".py",
   "mimetype": "text/x-python",
   "name": "python",
   "nbconvert_exporter": "python",
   "pygments_lexer": "ipython3",
   "version": "3.8.3"
  }
 },
 "nbformat": 4,
 "nbformat_minor": 5
}
