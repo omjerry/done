{
 "cells": [
  {
   "cell_type": "code",
   "execution_count": 1,
   "id": "33f14e9f-39f5-4f78-a39f-3b1ac506692b",
   "metadata": {},
   "outputs": [
    {
     "name": "stdout",
     "output_type": "stream",
     "text": [
      "MLP(\n",
      "  (hidden): Linear(in_features=784, out_features=256, bias=True)\n",
      "  (act): ReLU()\n",
      "  (output): Linear(in_features=256, out_features=10, bias=True)\n",
      ")\n",
      "------------------------------------------------------------\n",
      "tensor([[-0.0244, -0.0214, -0.1390,  0.1363,  0.0148,  0.0849,  0.1280,  0.0941,\n",
      "         -0.0365,  0.0913],\n",
      "        [-0.0047, -0.0593, -0.0659, -0.1137, -0.0739,  0.0801,  0.1296,  0.0930,\n",
      "         -0.0491,  0.1018]], grad_fn=<AddmmBackward0>)\n"
     ]
    }
   ],
   "source": [
    "import torch\n",
    "from torch import nn\n",
    "\n",
    "class MLP(nn.Module):\n",
    "    # 声明带有模型参数的层，此处声明了2个全连接层\n",
    "    def __init__(self, **kwargs):\n",
    "        # 调用MLP父类Block的构造函数来进行必要的初始化\n",
    "        # 这样在构造实例时还可以指定其他函数\n",
    "        super(MLP, self).__init__(**kwargs)\n",
    "        self.hidden = nn.Linear(784, 256)\n",
    "        self.act = nn.ReLU()\n",
    "        self.output = nn.Linear(256, 10)\n",
    "        \n",
    "    # 定义模型的前向计算\n",
    "    # 即如何根据输入x计算返回所需要的模型输出\n",
    "    def forward(self, x):\n",
    "        o = self.act(self.hidden(x))\n",
    "        return self.output(o)\n",
    "    \n",
    "X = torch.rand(2, 784)\n",
    "net = MLP()\n",
    "print(net)\n",
    "print('-' * 60)\n",
    "print(net(X))"
   ]
  },
  {
   "cell_type": "code",
   "execution_count": 9,
   "id": "964ed70f-6106-4df1-b9b7-70e342b4683b",
   "metadata": {},
   "outputs": [
    {
     "data": {
      "text/plain": [
       "torch.Size([10])"
      ]
     },
     "execution_count": 9,
     "metadata": {},
     "output_type": "execute_result"
    }
   ],
   "source": [
    "list(net.parameters())[3].size()"
   ]
  },
  {
   "cell_type": "code",
   "execution_count": null,
   "id": "f70899e1-b063-4c99-b1d9-544a1f41c29b",
   "metadata": {},
   "outputs": [],
   "source": []
  }
 ],
 "metadata": {
  "kernelspec": {
   "display_name": "Python 3",
   "language": "python",
   "name": "python3"
  },
  "language_info": {
   "codemirror_mode": {
    "name": "ipython",
    "version": 3
   },
   "file_extension": ".py",
   "mimetype": "text/x-python",
   "name": "python",
   "nbconvert_exporter": "python",
   "pygments_lexer": "ipython3",
   "version": "3.8.3"
  }
 },
 "nbformat": 4,
 "nbformat_minor": 5
}
